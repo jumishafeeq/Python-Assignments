{
 "cells": [
  {
   "cell_type": "markdown",
   "id": "fcee9ed7-2b48-48c5-9f96-40b9a30ea769",
   "metadata": {},
   "source": [
    "### Exercise 1: \n",
    "Write a Python program to read a file and display its contents "
   ]
  },
  {
   "cell_type": "code",
   "execution_count": 11,
   "id": "8d14f2f8-1c66-4298-b64f-f8bcf2d41b56",
   "metadata": {},
   "outputs": [
    {
     "name": "stdout",
     "output_type": "stream",
     "text": [
      "The contents of the file is: Hello, This is your file contents\n"
     ]
    }
   ],
   "source": [
    "with open('file.txt','r') as file:\n",
    "    content = file.read()\n",
    "    print('The contents of the file is:',content)"
   ]
  },
  {
   "cell_type": "markdown",
   "id": "4bdea5a9-33f9-4a23-a704-a79eaeda0b3b",
   "metadata": {},
   "source": [
    "### Exercise 2: \n",
    "Write a Python program to copy the contents of one file to another file"
   ]
  },
  {
   "cell_type": "code",
   "execution_count": 15,
   "id": "f30b7c4b-6652-4e72-a2ed-1f24bad7d925",
   "metadata": {},
   "outputs": [],
   "source": [
    "with open('file.txt','r') as file:\n",
    "    contents = file.read()\n",
    "with open('new_file.txt','w') as copy:\n",
    "        copy.write(contents)"
   ]
  },
  {
   "cell_type": "markdown",
   "id": "eee8952e-19b2-4e5c-8412-21b337c994ef",
   "metadata": {},
   "source": [
    "### Exercise 3: \n",
    "Write a Python program to read the content of a file and count the total number of words in that file."
   ]
  },
  {
   "cell_type": "code",
   "execution_count": 23,
   "id": "df369151-4c88-41ff-ba24-06d129827f72",
   "metadata": {},
   "outputs": [
    {
     "name": "stdout",
     "output_type": "stream",
     "text": [
      "The total number of words is: 6\n"
     ]
    }
   ],
   "source": [
    "with open('file.txt','r') as file:\n",
    "    content = file.read()\n",
    "    count = len(content.split())\n",
    "    print('The total number of words is:',count)"
   ]
  },
  {
   "cell_type": "markdown",
   "id": "ae0a13b8-0a80-4a24-9d44-1adab1bcb9e6",
   "metadata": {},
   "source": [
    "### Exercise 4: \n",
    "Write a Python program that prompts the user to input a string and converts it to an integer. Use try-except blocks to handle any exceptions that might occur"
   ]
  },
  {
   "cell_type": "code",
   "execution_count": 17,
   "id": "741d53c6-fcb2-4387-81c8-716717f77ddb",
   "metadata": {},
   "outputs": [
    {
     "name": "stdin",
     "output_type": "stream",
     "text": [
      "Enter a string value: 56\n"
     ]
    },
    {
     "name": "stdout",
     "output_type": "stream",
     "text": [
      "The integer value is: 56\n"
     ]
    }
   ],
   "source": [
    "try:\n",
    "    user_input = input('Enter a string value:')\n",
    "    integer = int(user_input)\n",
    "    print('The integer value is:',integer)\n",
    "except ValueError:\n",
    "    print('Error: Invalid input, please enter valid integer')\n"
   ]
  },
  {
   "cell_type": "markdown",
   "id": "754efd63-d3e9-4f69-89dc-3bf613601f3c",
   "metadata": {},
   "source": [
    "### Exercise 5: \n",
    "Write a Python program that prompts the user to input a list of integers and raises an exception if any of the integers in the list are negative."
   ]
  },
  {
   "cell_type": "code",
   "execution_count": 35,
   "id": "3d4d000e-9dfa-4273-be5b-c30699c48c94",
   "metadata": {},
   "outputs": [
    {
     "name": "stdin",
     "output_type": "stream",
     "text": [
      "Enter a list of integers separated by spaces:  65 54 -5\n"
     ]
    },
    {
     "name": "stdout",
     "output_type": "stream",
     "text": [
      "Error: Negative numbers are not allowed\n"
     ]
    }
   ],
   "source": [
    "try:\n",
    "    user_input = input(\"Enter a list of integers separated by spaces: \")\n",
    "    numbers = list(map(int, user_input.split()))\n",
    "    for i in numbers:\n",
    "        if i<0:\n",
    "            raise Exception('Error: Negative numbers are not allowed')\n",
    "    print('The valid integers are: ',numbers)\n",
    "except ValueError:\n",
    "    print('Error: Invalid input, please enter only integers')\n",
    "except Exception as e:\n",
    "    print(e)"
   ]
  },
  {
   "cell_type": "markdown",
   "id": "62ef02b7-08b6-4c7e-ae42-3e7dfcb9160d",
   "metadata": {},
   "source": [
    "### Exercise 6: \n",
    "Write a Python program that prompts the user to input a list of integers and computes the average of those integers. Use try-except blocks to handle any exceptions that might occur.use the finally clause to print a message indicating that the program has finished running."
   ]
  },
  {
   "cell_type": "code",
   "execution_count": 62,
   "id": "a2f370e2-521e-4715-828c-875d7e586849",
   "metadata": {},
   "outputs": [
    {
     "name": "stdin",
     "output_type": "stream",
     "text": [
      "Enter a list of integers seperated by spaces: 26 52 51\n"
     ]
    },
    {
     "name": "stdout",
     "output_type": "stream",
     "text": [
      "The average of these integers is: 43.0\n",
      "Program execution completed\n"
     ]
    }
   ],
   "source": [
    "try:\n",
    "    user_input = input('Enter a list of integers seperated by spaces:')\n",
    "    numbers = list(map(int,user_input.split()))\n",
    "    count = len(numbers)\n",
    "    int_sum = sum(numbers)\n",
    "    avg = int_sum / count\n",
    "    print('The average of these integers is:',avg)\n",
    "    \n",
    "except ValueError:\n",
    "    print('Error: Invalid input, please enter only integers')\n",
    "    \n",
    "except ZeroDivisionError:\n",
    "    print('Error: The list cannot be empty')\n",
    "    \n",
    "finally:\n",
    "    print('Program execution completed')"
   ]
  },
  {
   "cell_type": "markdown",
   "id": "d2524a46-ea34-4cbf-8d95-f38642125fbd",
   "metadata": {},
   "source": [
    "### Exercise 7 : \n",
    "Write a Python program that prompts the user to input a filename and writes a string to that file. Use try-except blocks to handle any exceptions that might occur and print a welcome message if there is no exception occurred."
   ]
  },
  {
   "cell_type": "code",
   "execution_count": 100,
   "id": "07466052-0809-492c-b2ce-99ca927a69c7",
   "metadata": {},
   "outputs": [
    {
     "name": "stdin",
     "output_type": "stream",
     "text": [
      "Enter a file name:  new file\n",
      "Enter the content to write into this file:  hello world\n"
     ]
    },
    {
     "name": "stdout",
     "output_type": "stream",
     "text": [
      "Welcome! The content has been successfully written to the file.\n"
     ]
    }
   ],
   "source": [
    "try:\n",
    "    file_name = input('Enter a file name: ')\n",
    "    content = input('Enter the content to write into this file: ')\n",
    "\n",
    "    with open(file_name,'w') as file:\n",
    "        file.write('content')\n",
    "except Exception as e:\n",
    "    print(f\"An error occurred: {e}\")\n",
    "else:\n",
    "    print(\"Welcome! The content has been successfully written to the file.\")"
   ]
  },
  {
   "cell_type": "code",
   "execution_count": null,
   "id": "2efa8c2e-08b4-45a3-8a62-cdb6430eb861",
   "metadata": {},
   "outputs": [],
   "source": []
  }
 ],
 "metadata": {
  "kernelspec": {
   "display_name": "Python [conda env:base] *",
   "language": "python",
   "name": "conda-base-py"
  },
  "language_info": {
   "codemirror_mode": {
    "name": "ipython",
    "version": 3
   },
   "file_extension": ".py",
   "mimetype": "text/x-python",
   "name": "python",
   "nbconvert_exporter": "python",
   "pygments_lexer": "ipython3",
   "version": "3.12.7"
  }
 },
 "nbformat": 4,
 "nbformat_minor": 5
}
