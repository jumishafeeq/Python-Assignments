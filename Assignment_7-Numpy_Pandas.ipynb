{
 "cells": [
  {
   "cell_type": "markdown",
   "id": "0cbc71a6-a5fe-4f6c-b1c6-1b0bdcb355ec",
   "metadata": {},
   "source": [
    "## Exercise 1:  \n",
    "Create a numpy array containing the numbers from 1 to 10, and then reshape it to a 2x5 matrix.\n"
   ]
  },
  {
   "cell_type": "code",
   "execution_count": 18,
   "id": "20088761-0e34-4005-90b7-ef560adf861e",
   "metadata": {},
   "outputs": [
    {
     "name": "stdout",
     "output_type": "stream",
     "text": [
      "[ 1  2  3  4  5  6  7  8  9 10]\n"
     ]
    }
   ],
   "source": [
    "# creating numpy array\n",
    "\n",
    "import numpy as np\n",
    "\n",
    "arr = np.arange(1,11)\n",
    "print(arr)\n"
   ]
  },
  {
   "cell_type": "code",
   "execution_count": 22,
   "id": "27325a3f-efa0-4ab5-a507-07a7bb734120",
   "metadata": {},
   "outputs": [
    {
     "name": "stdout",
     "output_type": "stream",
     "text": [
      "Reshaped array:\n",
      " [[ 1  2  3  4  5]\n",
      " [ 6  7  8  9 10]]\n"
     ]
    }
   ],
   "source": [
    "# reshaping to 2x5 matrix\n",
    "\n",
    "reshaped_arr = arr.reshape(2,5)\n",
    "print('Reshaped array:\\n',reshaped_arr)"
   ]
  },
  {
   "cell_type": "markdown",
   "id": "3807ba22-e503-4932-a4b8-782ba8f77452",
   "metadata": {},
   "source": [
    "## Exercise 2: \n",
    "Create a numpy array containing the numbers from 1 to 20, and then extract the elements between the 5th and 15th index.\n"
   ]
  },
  {
   "cell_type": "code",
   "execution_count": 50,
   "id": "50d9c88d-3dd6-497a-96a8-4770da9820d7",
   "metadata": {},
   "outputs": [
    {
     "name": "stdout",
     "output_type": "stream",
     "text": [
      "[ 1  2  3  4  5  6  7  8  9 10 11 12 13 14 15 16 17 18 19 20]\n"
     ]
    }
   ],
   "source": [
    "# creating numpy array\n",
    "\n",
    "arr = np.arange(1,21)\n",
    "print(arr)"
   ]
  },
  {
   "cell_type": "code",
   "execution_count": 34,
   "id": "37d8bf8e-2070-4b32-ba19-d72bab0703f4",
   "metadata": {},
   "outputs": [
    {
     "name": "stdout",
     "output_type": "stream",
     "text": [
      "[ 6  7  8  9 10 11 12 13 14 15 16]\n"
     ]
    }
   ],
   "source": [
    "# extract the element b/w 5th & 15th index\n",
    "\n",
    "new_arr = arr[5:16]\n",
    "print(new_arr)"
   ]
  },
  {
   "cell_type": "markdown",
   "id": "0513fef4-4877-4e16-80e4-9921a6d23046",
   "metadata": {},
   "source": [
    "## Exercise 3: \n",
    "Create a Pandas series with the following data: {'apples': 3, 'bananas': 2, 'oranges': 1}. Then, add a new item to the series with the key 'pears' and the value 4.\n"
   ]
  },
  {
   "cell_type": "code",
   "execution_count": 72,
   "id": "d5ffd3a5-f24a-46c6-b18c-dc86ef2d00da",
   "metadata": {},
   "outputs": [
    {
     "data": {
      "text/plain": [
       "apples     3\n",
       "bananas    2\n",
       "oranges    1\n",
       "dtype: int64"
      ]
     },
     "execution_count": 72,
     "metadata": {},
     "output_type": "execute_result"
    }
   ],
   "source": [
    "# creating pandas series\n",
    "\n",
    "import pandas as pd\n",
    "\n",
    "ser = pd.Series({'apples': 3, 'bananas': 2, 'oranges': 1})\n",
    "ser"
   ]
  },
  {
   "cell_type": "code",
   "execution_count": 74,
   "id": "84abdc19-1699-485a-874e-4e25f5d8bba5",
   "metadata": {},
   "outputs": [
    {
     "data": {
      "text/plain": [
       "apples     3\n",
       "bananas    2\n",
       "oranges    1\n",
       "pears      4\n",
       "dtype: int64"
      ]
     },
     "execution_count": 74,
     "metadata": {},
     "output_type": "execute_result"
    }
   ],
   "source": [
    "# adding new item to the series\n",
    "\n",
    "ser['pears'] = 4\n",
    "ser"
   ]
  },
  {
   "cell_type": "markdown",
   "id": "1b234d79-f3b4-4d44-ab17-f27f78d6996f",
   "metadata": {},
   "source": [
    "## Exercise 4: \n",
    "Create a dataframe with the following columns: name, age, and gender. The dataframe should have 10 rows of data.\n"
   ]
  },
  {
   "cell_type": "code",
   "execution_count": 78,
   "id": "919f2a84-f7f2-4b6f-a6f0-8f961eac1482",
   "metadata": {},
   "outputs": [
    {
     "data": {
      "text/html": [
       "<div>\n",
       "<style scoped>\n",
       "    .dataframe tbody tr th:only-of-type {\n",
       "        vertical-align: middle;\n",
       "    }\n",
       "\n",
       "    .dataframe tbody tr th {\n",
       "        vertical-align: top;\n",
       "    }\n",
       "\n",
       "    .dataframe thead th {\n",
       "        text-align: right;\n",
       "    }\n",
       "</style>\n",
       "<table border=\"1\" class=\"dataframe\">\n",
       "  <thead>\n",
       "    <tr style=\"text-align: right;\">\n",
       "      <th></th>\n",
       "      <th>Name</th>\n",
       "      <th>Age</th>\n",
       "      <th>Gender</th>\n",
       "    </tr>\n",
       "  </thead>\n",
       "  <tbody>\n",
       "    <tr>\n",
       "      <th>0</th>\n",
       "      <td>Alice</td>\n",
       "      <td>25</td>\n",
       "      <td>Female</td>\n",
       "    </tr>\n",
       "    <tr>\n",
       "      <th>1</th>\n",
       "      <td>Bob</td>\n",
       "      <td>30</td>\n",
       "      <td>Male</td>\n",
       "    </tr>\n",
       "    <tr>\n",
       "      <th>2</th>\n",
       "      <td>Charlie</td>\n",
       "      <td>22</td>\n",
       "      <td>Male</td>\n",
       "    </tr>\n",
       "    <tr>\n",
       "      <th>3</th>\n",
       "      <td>David</td>\n",
       "      <td>28</td>\n",
       "      <td>Male</td>\n",
       "    </tr>\n",
       "    <tr>\n",
       "      <th>4</th>\n",
       "      <td>Eve</td>\n",
       "      <td>24</td>\n",
       "      <td>Female</td>\n",
       "    </tr>\n",
       "    <tr>\n",
       "      <th>5</th>\n",
       "      <td>Frank</td>\n",
       "      <td>27</td>\n",
       "      <td>Male</td>\n",
       "    </tr>\n",
       "    <tr>\n",
       "      <th>6</th>\n",
       "      <td>Grace</td>\n",
       "      <td>32</td>\n",
       "      <td>Female</td>\n",
       "    </tr>\n",
       "    <tr>\n",
       "      <th>7</th>\n",
       "      <td>Hannah</td>\n",
       "      <td>26</td>\n",
       "      <td>Female</td>\n",
       "    </tr>\n",
       "    <tr>\n",
       "      <th>8</th>\n",
       "      <td>Ian</td>\n",
       "      <td>23</td>\n",
       "      <td>Male</td>\n",
       "    </tr>\n",
       "    <tr>\n",
       "      <th>9</th>\n",
       "      <td>Jack</td>\n",
       "      <td>31</td>\n",
       "      <td>Male</td>\n",
       "    </tr>\n",
       "  </tbody>\n",
       "</table>\n",
       "</div>"
      ],
      "text/plain": [
       "      Name  Age  Gender\n",
       "0    Alice   25  Female\n",
       "1      Bob   30    Male\n",
       "2  Charlie   22    Male\n",
       "3    David   28    Male\n",
       "4      Eve   24  Female\n",
       "5    Frank   27    Male\n",
       "6    Grace   32  Female\n",
       "7   Hannah   26  Female\n",
       "8      Ian   23    Male\n",
       "9     Jack   31    Male"
      ]
     },
     "execution_count": 78,
     "metadata": {},
     "output_type": "execute_result"
    }
   ],
   "source": [
    "# creating dataframe\n",
    "\n",
    "data = {\n",
    "    'Name': ['Alice', 'Bob', 'Charlie', 'David', 'Eve', 'Frank', 'Grace', 'Hannah', 'Ian', 'Jack'],\n",
    "    'Age': [25, 30, 22, 28, 24, 27, 32, 26, 23, 31],\n",
    "    'Gender': ['Female', 'Male', 'Male', 'Male', 'Female', 'Male', 'Female', 'Female', 'Male', 'Male']\n",
    "}\n",
    "df = pd.DataFrame(data)\n",
    "df"
   ]
  },
  {
   "cell_type": "markdown",
   "id": "8164de2c-05d0-48f8-8dd9-c882b2632680",
   "metadata": {},
   "source": [
    "## Exercise 5: \n",
    "Add a new column to the data frame created in question 1, called occupation. The values for this column should be Programmer, Manager, and Analyst, corresponding to the rows in the dataframe.\n"
   ]
  },
  {
   "cell_type": "code",
   "execution_count": 81,
   "id": "99f9635f-0d64-4cbc-9670-f04b17c9187f",
   "metadata": {},
   "outputs": [
    {
     "data": {
      "text/html": [
       "<div>\n",
       "<style scoped>\n",
       "    .dataframe tbody tr th:only-of-type {\n",
       "        vertical-align: middle;\n",
       "    }\n",
       "\n",
       "    .dataframe tbody tr th {\n",
       "        vertical-align: top;\n",
       "    }\n",
       "\n",
       "    .dataframe thead th {\n",
       "        text-align: right;\n",
       "    }\n",
       "</style>\n",
       "<table border=\"1\" class=\"dataframe\">\n",
       "  <thead>\n",
       "    <tr style=\"text-align: right;\">\n",
       "      <th></th>\n",
       "      <th>Name</th>\n",
       "      <th>Age</th>\n",
       "      <th>Gender</th>\n",
       "      <th>Occupation</th>\n",
       "    </tr>\n",
       "  </thead>\n",
       "  <tbody>\n",
       "    <tr>\n",
       "      <th>0</th>\n",
       "      <td>Alice</td>\n",
       "      <td>25</td>\n",
       "      <td>Female</td>\n",
       "      <td>Programmer</td>\n",
       "    </tr>\n",
       "    <tr>\n",
       "      <th>1</th>\n",
       "      <td>Bob</td>\n",
       "      <td>30</td>\n",
       "      <td>Male</td>\n",
       "      <td>Manager</td>\n",
       "    </tr>\n",
       "    <tr>\n",
       "      <th>2</th>\n",
       "      <td>Charlie</td>\n",
       "      <td>22</td>\n",
       "      <td>Male</td>\n",
       "      <td>Analyst</td>\n",
       "    </tr>\n",
       "    <tr>\n",
       "      <th>3</th>\n",
       "      <td>David</td>\n",
       "      <td>28</td>\n",
       "      <td>Male</td>\n",
       "      <td>Programmer</td>\n",
       "    </tr>\n",
       "    <tr>\n",
       "      <th>4</th>\n",
       "      <td>Eve</td>\n",
       "      <td>24</td>\n",
       "      <td>Female</td>\n",
       "      <td>Manager</td>\n",
       "    </tr>\n",
       "    <tr>\n",
       "      <th>5</th>\n",
       "      <td>Frank</td>\n",
       "      <td>27</td>\n",
       "      <td>Male</td>\n",
       "      <td>Analyst</td>\n",
       "    </tr>\n",
       "    <tr>\n",
       "      <th>6</th>\n",
       "      <td>Grace</td>\n",
       "      <td>32</td>\n",
       "      <td>Female</td>\n",
       "      <td>Programmer</td>\n",
       "    </tr>\n",
       "    <tr>\n",
       "      <th>7</th>\n",
       "      <td>Hannah</td>\n",
       "      <td>26</td>\n",
       "      <td>Female</td>\n",
       "      <td>Manager</td>\n",
       "    </tr>\n",
       "    <tr>\n",
       "      <th>8</th>\n",
       "      <td>Ian</td>\n",
       "      <td>23</td>\n",
       "      <td>Male</td>\n",
       "      <td>Analyst</td>\n",
       "    </tr>\n",
       "    <tr>\n",
       "      <th>9</th>\n",
       "      <td>Jack</td>\n",
       "      <td>31</td>\n",
       "      <td>Male</td>\n",
       "      <td>Programmer</td>\n",
       "    </tr>\n",
       "  </tbody>\n",
       "</table>\n",
       "</div>"
      ],
      "text/plain": [
       "      Name  Age  Gender  Occupation\n",
       "0    Alice   25  Female  Programmer\n",
       "1      Bob   30    Male     Manager\n",
       "2  Charlie   22    Male     Analyst\n",
       "3    David   28    Male  Programmer\n",
       "4      Eve   24  Female     Manager\n",
       "5    Frank   27    Male     Analyst\n",
       "6    Grace   32  Female  Programmer\n",
       "7   Hannah   26  Female     Manager\n",
       "8      Ian   23    Male     Analyst\n",
       "9     Jack   31    Male  Programmer"
      ]
     },
     "execution_count": 81,
     "metadata": {},
     "output_type": "execute_result"
    }
   ],
   "source": [
    "# adding the new column 'occupation'\n",
    "\n",
    "occupation = ['Programmer', 'Manager', 'Analyst', 'Programmer', 'Manager','Analyst', 'Programmer', 'Manager', 'Analyst', 'Programmer']\n",
    "\n",
    "df['Occupation'] = occupation\n",
    "df"
   ]
  },
  {
   "cell_type": "markdown",
   "id": "00f15958-f677-479f-9cf0-18c800d4484a",
   "metadata": {},
   "source": [
    "## Exercise 6: \n",
    "Select the rows of the dataframe where the age is greater than or equal to 30.\n"
   ]
  },
  {
   "cell_type": "code",
   "execution_count": 84,
   "id": "580381ac-4875-428b-bd02-0fc5a9a6d2b3",
   "metadata": {},
   "outputs": [
    {
     "data": {
      "text/html": [
       "<div>\n",
       "<style scoped>\n",
       "    .dataframe tbody tr th:only-of-type {\n",
       "        vertical-align: middle;\n",
       "    }\n",
       "\n",
       "    .dataframe tbody tr th {\n",
       "        vertical-align: top;\n",
       "    }\n",
       "\n",
       "    .dataframe thead th {\n",
       "        text-align: right;\n",
       "    }\n",
       "</style>\n",
       "<table border=\"1\" class=\"dataframe\">\n",
       "  <thead>\n",
       "    <tr style=\"text-align: right;\">\n",
       "      <th></th>\n",
       "      <th>Name</th>\n",
       "      <th>Age</th>\n",
       "      <th>Gender</th>\n",
       "      <th>Occupation</th>\n",
       "    </tr>\n",
       "  </thead>\n",
       "  <tbody>\n",
       "    <tr>\n",
       "      <th>1</th>\n",
       "      <td>Bob</td>\n",
       "      <td>30</td>\n",
       "      <td>Male</td>\n",
       "      <td>Manager</td>\n",
       "    </tr>\n",
       "    <tr>\n",
       "      <th>6</th>\n",
       "      <td>Grace</td>\n",
       "      <td>32</td>\n",
       "      <td>Female</td>\n",
       "      <td>Programmer</td>\n",
       "    </tr>\n",
       "    <tr>\n",
       "      <th>9</th>\n",
       "      <td>Jack</td>\n",
       "      <td>31</td>\n",
       "      <td>Male</td>\n",
       "      <td>Programmer</td>\n",
       "    </tr>\n",
       "  </tbody>\n",
       "</table>\n",
       "</div>"
      ],
      "text/plain": [
       "    Name  Age  Gender  Occupation\n",
       "1    Bob   30    Male     Manager\n",
       "6  Grace   32  Female  Programmer\n",
       "9   Jack   31    Male  Programmer"
      ]
     },
     "execution_count": 84,
     "metadata": {},
     "output_type": "execute_result"
    }
   ],
   "source": [
    "df[df['Age'] >= 30]"
   ]
  },
  {
   "cell_type": "markdown",
   "id": "2e2e7e43-9e92-463a-98d7-cb46df29e00a",
   "metadata": {},
   "source": [
    "## Exercise 7: \n",
    "Convert this dataframe to a csv file and read that csv file, finally display the contents.\n"
   ]
  },
  {
   "cell_type": "code",
   "execution_count": 102,
   "id": "684d1ea4-25bc-4d98-a5e0-2739fc78d306",
   "metadata": {},
   "outputs": [],
   "source": [
    "# converting dataframe to csv file\n",
    "\n",
    "df.to_csv('data.csv', index = False)"
   ]
  },
  {
   "cell_type": "code",
   "execution_count": 108,
   "id": "8aff3a51-4c0b-4bad-8a24-c3a252fdce8c",
   "metadata": {},
   "outputs": [
    {
     "data": {
      "text/html": [
       "<div>\n",
       "<style scoped>\n",
       "    .dataframe tbody tr th:only-of-type {\n",
       "        vertical-align: middle;\n",
       "    }\n",
       "\n",
       "    .dataframe tbody tr th {\n",
       "        vertical-align: top;\n",
       "    }\n",
       "\n",
       "    .dataframe thead th {\n",
       "        text-align: right;\n",
       "    }\n",
       "</style>\n",
       "<table border=\"1\" class=\"dataframe\">\n",
       "  <thead>\n",
       "    <tr style=\"text-align: right;\">\n",
       "      <th></th>\n",
       "      <th>Name</th>\n",
       "      <th>Age</th>\n",
       "      <th>Gender</th>\n",
       "      <th>Occupation</th>\n",
       "    </tr>\n",
       "  </thead>\n",
       "  <tbody>\n",
       "    <tr>\n",
       "      <th>0</th>\n",
       "      <td>Alice</td>\n",
       "      <td>25</td>\n",
       "      <td>Female</td>\n",
       "      <td>Programmer</td>\n",
       "    </tr>\n",
       "    <tr>\n",
       "      <th>1</th>\n",
       "      <td>Bob</td>\n",
       "      <td>30</td>\n",
       "      <td>Male</td>\n",
       "      <td>Manager</td>\n",
       "    </tr>\n",
       "    <tr>\n",
       "      <th>2</th>\n",
       "      <td>Charlie</td>\n",
       "      <td>22</td>\n",
       "      <td>Male</td>\n",
       "      <td>Analyst</td>\n",
       "    </tr>\n",
       "    <tr>\n",
       "      <th>3</th>\n",
       "      <td>David</td>\n",
       "      <td>28</td>\n",
       "      <td>Male</td>\n",
       "      <td>Programmer</td>\n",
       "    </tr>\n",
       "    <tr>\n",
       "      <th>4</th>\n",
       "      <td>Eve</td>\n",
       "      <td>24</td>\n",
       "      <td>Female</td>\n",
       "      <td>Manager</td>\n",
       "    </tr>\n",
       "    <tr>\n",
       "      <th>5</th>\n",
       "      <td>Frank</td>\n",
       "      <td>27</td>\n",
       "      <td>Male</td>\n",
       "      <td>Analyst</td>\n",
       "    </tr>\n",
       "    <tr>\n",
       "      <th>6</th>\n",
       "      <td>Grace</td>\n",
       "      <td>32</td>\n",
       "      <td>Female</td>\n",
       "      <td>Programmer</td>\n",
       "    </tr>\n",
       "    <tr>\n",
       "      <th>7</th>\n",
       "      <td>Hannah</td>\n",
       "      <td>26</td>\n",
       "      <td>Female</td>\n",
       "      <td>Manager</td>\n",
       "    </tr>\n",
       "    <tr>\n",
       "      <th>8</th>\n",
       "      <td>Ian</td>\n",
       "      <td>23</td>\n",
       "      <td>Male</td>\n",
       "      <td>Analyst</td>\n",
       "    </tr>\n",
       "    <tr>\n",
       "      <th>9</th>\n",
       "      <td>Jack</td>\n",
       "      <td>31</td>\n",
       "      <td>Male</td>\n",
       "      <td>Programmer</td>\n",
       "    </tr>\n",
       "  </tbody>\n",
       "</table>\n",
       "</div>"
      ],
      "text/plain": [
       "      Name  Age  Gender  Occupation\n",
       "0    Alice   25  Female  Programmer\n",
       "1      Bob   30    Male     Manager\n",
       "2  Charlie   22    Male     Analyst\n",
       "3    David   28    Male  Programmer\n",
       "4      Eve   24  Female     Manager\n",
       "5    Frank   27    Male     Analyst\n",
       "6    Grace   32  Female  Programmer\n",
       "7   Hannah   26  Female     Manager\n",
       "8      Ian   23    Male     Analyst\n",
       "9     Jack   31    Male  Programmer"
      ]
     },
     "execution_count": 108,
     "metadata": {},
     "output_type": "execute_result"
    }
   ],
   "source": [
    "# read the csv file\n",
    "\n",
    "csv_file = pd.read_csv('data.csv')\n",
    "csv_file"
   ]
  },
  {
   "cell_type": "code",
   "execution_count": null,
   "id": "bcdee61a-9ceb-40d9-b544-bf59551f7cda",
   "metadata": {},
   "outputs": [],
   "source": []
  }
 ],
 "metadata": {
  "kernelspec": {
   "display_name": "Python [conda env:base] *",
   "language": "python",
   "name": "conda-base-py"
  },
  "language_info": {
   "codemirror_mode": {
    "name": "ipython",
    "version": 3
   },
   "file_extension": ".py",
   "mimetype": "text/x-python",
   "name": "python",
   "nbconvert_exporter": "python",
   "pygments_lexer": "ipython3",
   "version": "3.12.7"
  }
 },
 "nbformat": 4,
 "nbformat_minor": 5
}
