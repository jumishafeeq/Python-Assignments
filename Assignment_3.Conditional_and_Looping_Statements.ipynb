{
 "cells": [
  {
   "cell_type": "markdown",
   "id": "3f58827a-c873-49ba-a026-5ec58db3904c",
   "metadata": {},
   "source": [
    "## Exercise 1\n",
    "Name your file: MonthNames.py  \n",
    "Write a program that reads an integer value between 1 and 12 from the user and prints output the corresponding month of the year.  \n",
    "An example run of the program (numbers in bold are typed in by the user),  \n",
    "Enter the month: 3  \n",
    "Month 3 is March"
   ]
  },
  {
   "cell_type": "code",
   "execution_count": 102,
   "id": "d205ebc2-5733-43e7-869c-c6435f28dbba",
   "metadata": {},
   "outputs": [
    {
     "name": "stdin",
     "output_type": "stream",
     "text": [
      "Enter the month: 12\n"
     ]
    },
    {
     "name": "stdout",
     "output_type": "stream",
     "text": [
      "Month 12 is December\n"
     ]
    }
   ],
   "source": [
    "#MonthNames.py\n",
    "month_no = int(input(\"Enter the month:\"))\n",
    "month = {1:\"January\", 2:\"February\", 3:\"March\", 4:\"April\", 5:\"May\", 6:\"June\", \n",
    "         7:\"July\", 8:\"August\", 9:\"September\", 10:\"October\", 11:\"November\", 12:\"December\"}\n",
    "\n",
    "if month_no > 0 and month_no <= 12:\n",
    "    print(f\"Month {month_no} is {month[month_no]}\")\n",
    "else:\n",
    "    print(\"Invalid month number. Please enter a number between 1 and 12.\")"
   ]
  },
  {
   "cell_type": "markdown",
   "id": "57fb5ff7-9700-4e52-808b-e6e30ef07b6a",
   "metadata": {},
   "source": [
    "## Exercise 2\n",
    "A certain cinema currently sells tickets for a full price of 6 pounds, but always sells tickets for half price to people who are less than 16 years old, and for a third of the price for people who are 60 years old or more.  \n",
    "An example run of the program (numbers in bold are typed in by the user),  \n",
    "Enter your age: 63  \n",
    "Your ticket costs £2.00"
   ]
  },
  {
   "cell_type": "code",
   "execution_count": 141,
   "id": "a1baea29-1fc4-4bc3-8dee-03916ac35b39",
   "metadata": {},
   "outputs": [
    {
     "name": "stdin",
     "output_type": "stream",
     "text": [
      "Enter your age: 28\n"
     ]
    },
    {
     "name": "stdout",
     "output_type": "stream",
     "text": [
      "Your ticket costs £6.0\n"
     ]
    }
   ],
   "source": [
    "age = int(input(\"Enter your age:\"))\n",
    "if age < 16:\n",
    "    cost = 3.00\n",
    "elif age >= 60:\n",
    "    cost = 2.00\n",
    "else:\n",
    "    cost = 6.00\n",
    "print(f\"Your ticket costs £{cost}\")"
   ]
  },
  {
   "cell_type": "markdown",
   "id": "e0fd656d-8ae4-4e26-bfb2-e9d77070c4fb",
   "metadata": {},
   "source": [
    "## Exercise 3  \n",
    "Name your file: BodyMassIndex.py  \n",
    "Write a program to calculate your BMI and give weight status. Body Mass Index (BMI) is an internationally used measurement to check if you are a healthy weight for your height.The metric BMI formula accepts weight in kilograms and height in meters:  \n",
    "BMI= weight(kg)/height2(m2)  \n",
    "##### BMI Weight Status Categories table  "
   ]
  },
  {
   "cell_type": "raw",
   "id": "b4d89480-e6fb-496f-a594-217e027b9c6d",
   "metadata": {},
   "source": [
    "BMI range - kg/m2       Category  \n",
    " Below 18.5             Underweight  \n",
    " 18.5 -24.9             Normal  \n",
    " 25 - 29.9              Overweight  \n",
    " 30 & Above             Obese  "
   ]
  },
  {
   "cell_type": "markdown",
   "id": "f2a0fd13-ed98-4488-9177-3204a4fc152d",
   "metadata": {},
   "source": [
    "An example run of the program (numbers in bold are typed in by the user),  \n",
    "Enter your weight in (kg): 75  \n",
    "Enter your height in (m): 1.70  \n",
    "Your BMI is: 25.95  \n",
    "You are in the “overweight” range."
   ]
  },
  {
   "cell_type": "code",
   "execution_count": null,
   "id": "1a0d4752-656e-49b0-a23f-60fdbb266e6c",
   "metadata": {},
   "outputs": [],
   "source": []
  },
  {
   "cell_type": "markdown",
   "id": "cac1d180-8af7-4d73-89d1-8cc7b3617e56",
   "metadata": {},
   "source": [
    "## Exercise 4  \n",
    "Write a Python program to receve 3 numbers from the user and print the greatest among them."
   ]
  },
  {
   "cell_type": "code",
   "execution_count": 157,
   "id": "6967628c-ec62-48e7-8c49-0cbea01728c2",
   "metadata": {},
   "outputs": [
    {
     "name": "stdout",
     "output_type": "stream",
     "text": [
      "Enter 3 numbers:\n"
     ]
    },
    {
     "name": "stdin",
     "output_type": "stream",
     "text": [
      "number1: 6945\n",
      "number2: 2655\n",
      "number3: 2456\n"
     ]
    },
    {
     "name": "stdout",
     "output_type": "stream",
     "text": [
      "The greatest number is 6945\n"
     ]
    }
   ],
   "source": [
    "print(\"Enter 3 numbers:\")\n",
    "num1 = input('number1:')\n",
    "num2 = input('number2:')\n",
    "num3 = input('number3:')\n",
    "if num1>num2 and num1>num3:\n",
    "    max=num1\n",
    "elif num2>num3:\n",
    "    max=num2\n",
    "else:\n",
    "    max=num3\n",
    "print(f\"The greatest number is {max}\")"
   ]
  },
  {
   "cell_type": "markdown",
   "id": "797f855e-0a85-4a43-b712-037a0e7745b5",
   "metadata": {},
   "source": [
    "## Exercise 5\n",
    "Find the factorial of a given number using loops(note the number is received from the user)"
   ]
  },
  {
   "cell_type": "code",
   "execution_count": null,
   "id": "69a3b9d2-ad8f-424d-b5a8-a26df27b7b5b",
   "metadata": {},
   "outputs": [],
   "source": []
  },
  {
   "cell_type": "markdown",
   "id": "d41eca5c-1b7b-46c3-98df-b17683555b3c",
   "metadata": {},
   "source": [
    "## Exercise 6\n",
    "Reverse a number using while loop"
   ]
  },
  {
   "cell_type": "code",
   "execution_count": null,
   "id": "7b367ee4-4e5f-4981-bdf1-c40ce191ded7",
   "metadata": {},
   "outputs": [],
   "source": []
  },
  {
   "cell_type": "markdown",
   "id": "0d78576a-60ad-4c60-a5b2-d9d2cdd31173",
   "metadata": {},
   "source": [
    "## Exercise 7\n",
    "Finding the multiples of a number using loop\n"
   ]
  },
  {
   "cell_type": "code",
   "execution_count": 191,
   "id": "bc7c52dc-a314-4cd5-b46e-b05bdb9499ac",
   "metadata": {},
   "outputs": [
    {
     "name": "stdin",
     "output_type": "stream",
     "text": [
      "Enter a number: 2\n"
     ]
    },
    {
     "name": "stdout",
     "output_type": "stream",
     "text": [
      "Multiples of 2 is:\n",
      "2\n",
      "4\n",
      "6\n",
      "8\n",
      "10\n",
      "12\n",
      "14\n",
      "16\n",
      "18\n",
      "20\n",
      "22\n",
      "24\n",
      "26\n",
      "28\n",
      "30\n",
      "32\n",
      "34\n",
      "36\n",
      "38\n",
      "40\n",
      "42\n",
      "44\n",
      "46\n",
      "48\n",
      "50\n",
      "52\n",
      "54\n",
      "56\n",
      "58\n",
      "60\n",
      "62\n",
      "64\n",
      "66\n",
      "68\n",
      "70\n",
      "72\n",
      "74\n",
      "76\n",
      "78\n",
      "80\n",
      "82\n",
      "84\n",
      "86\n",
      "88\n",
      "90\n",
      "92\n",
      "94\n",
      "96\n",
      "98\n",
      "100\n",
      "102\n",
      "104\n",
      "106\n",
      "108\n",
      "110\n",
      "112\n",
      "114\n",
      "116\n",
      "118\n",
      "120\n",
      "122\n",
      "124\n",
      "126\n",
      "128\n",
      "130\n",
      "132\n",
      "134\n",
      "136\n",
      "138\n",
      "140\n",
      "142\n",
      "144\n",
      "146\n",
      "148\n",
      "150\n",
      "152\n",
      "154\n",
      "156\n",
      "158\n",
      "160\n",
      "162\n",
      "164\n",
      "166\n",
      "168\n",
      "170\n",
      "172\n",
      "174\n",
      "176\n",
      "178\n",
      "180\n",
      "182\n",
      "184\n",
      "186\n",
      "188\n",
      "190\n",
      "192\n",
      "194\n",
      "196\n",
      "198\n",
      "200\n"
     ]
    }
   ],
   "source": [
    "num = int(input(\"Enter a number:\"))\n",
    "print(f\"Multiples of {num} is:\")\n",
    "for i in range(1,101):\n",
    "    print(i*num)\n",
    "    "
   ]
  },
  {
   "cell_type": "markdown",
   "id": "4b8b9f80-3654-4f77-ac9d-cacc4a91e5d9",
   "metadata": {},
   "source": [
    "## Exercise 8\n",
    "Write a program to print the inputted value as it is and break the loop if the value is 'done'.  \n",
    "Example run of the program:  \n",
    ":hello there  \n",
    "hello there  \n",
    ":finished  \n",
    "finished  \n",
    ":done  \n",
    "Done"
   ]
  },
  {
   "cell_type": "code",
   "execution_count": null,
   "id": "1ac6cae0-9ac9-4970-bb2c-f938c595e083",
   "metadata": {},
   "outputs": [],
   "source": []
  },
  {
   "cell_type": "markdown",
   "id": "e9c1ab76-b4ec-4400-b81c-449dc44f52d3",
   "metadata": {},
   "source": [
    "## Exercise 9\n",
    "Write a program that prints the numbers from 1 to 10. But for multiples of three print \"Fizz\" instead of the number and for the multiple of five print \"Buzz\". For numbers which are multiples of both three and five print \"FizzBuzz\""
   ]
  },
  {
   "cell_type": "code",
   "execution_count": null,
   "id": "d216a2c1-d6f2-4556-90b0-33b06e392dc0",
   "metadata": {},
   "outputs": [],
   "source": []
  },
  {
   "cell_type": "markdown",
   "id": "cb957edb-2267-456c-9f5f-ad36e877927c",
   "metadata": {},
   "source": [
    "## Exercise 10\n",
    "Write a program to print the following pattern:  \n",
    "  \n",
    "5 4 3 2 1  \n",
    "4 3 2 1  \n",
    "3 2 1  \n",
    "2 1  \n",
    "1"
   ]
  },
  {
   "cell_type": "code",
   "execution_count": null,
   "id": "a693f250-21d1-4725-9d2a-9b08dd90899c",
   "metadata": {},
   "outputs": [],
   "source": []
  }
 ],
 "metadata": {
  "kernelspec": {
   "display_name": "Python [conda env:base] *",
   "language": "python",
   "name": "conda-base-py"
  },
  "language_info": {
   "codemirror_mode": {
    "name": "ipython",
    "version": 3
   },
   "file_extension": ".py",
   "mimetype": "text/x-python",
   "name": "python",
   "nbconvert_exporter": "python",
   "pygments_lexer": "ipython3",
   "version": "3.12.7"
  }
 },
 "nbformat": 4,
 "nbformat_minor": 5
}
