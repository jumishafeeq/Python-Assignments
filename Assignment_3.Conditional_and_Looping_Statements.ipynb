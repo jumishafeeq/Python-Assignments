{
 "cells": [
  {
   "cell_type": "markdown",
   "id": "3f58827a-c873-49ba-a026-5ec58db3904c",
   "metadata": {},
   "source": [
    "## Exercise 1\n",
    "Name your file: MonthNames.py  \n",
    "Write a program that reads an integer value between 1 and 12 from the user and prints output the corresponding month of the year.  \n",
    "An example run of the program (numbers in bold are typed in by the user),  \n",
    "Enter the month: 3  \n",
    "Month 3 is March"
   ]
  },
  {
   "cell_type": "code",
   "execution_count": 124,
   "id": "d205ebc2-5733-43e7-869c-c6435f28dbba",
   "metadata": {},
   "outputs": [
    {
     "name": "stdin",
     "output_type": "stream",
     "text": [
      "Enter the month: 8\n"
     ]
    },
    {
     "name": "stdout",
     "output_type": "stream",
     "text": [
      "Month 8 is August\n"
     ]
    }
   ],
   "source": [
    "#MonthNames.py\n",
    "month_no = int(input(\"Enter the month:\"))\n",
    "month = {1:\"January\", 2:\"February\", 3:\"March\", 4:\"April\", 5:\"May\", 6:\"June\", \n",
    "         7:\"July\", 8:\"August\", 9:\"September\", 10:\"October\", 11:\"November\", 12:\"December\"}\n",
    "\n",
    "if month_no > 0 and month_no <= 12:\n",
    "    print(f\"Month {month_no} is {month[month_no]}\")\n",
    "else:\n",
    "    print(\"Invalid month number. Please enter a number between 1 and 12.\")\n",
    "    "
   ]
  },
  {
   "cell_type": "markdown",
   "id": "57fb5ff7-9700-4e52-808b-e6e30ef07b6a",
   "metadata": {},
   "source": [
    "## Exercise 2\n",
    "A certain cinema currently sells tickets for a full price of 6 pounds, but always sells tickets for half price to people who are less than 16 years old, and for a third of the price for people who are 60 years old or more.  \n",
    "An example run of the program (numbers in bold are typed in by the user),  \n",
    "Enter your age: 63  \n",
    "Your ticket costs £2.00"
   ]
  },
  {
   "cell_type": "code",
   "execution_count": 126,
   "id": "a1baea29-1fc4-4bc3-8dee-03916ac35b39",
   "metadata": {},
   "outputs": [
    {
     "name": "stdin",
     "output_type": "stream",
     "text": [
      "Enter your age: 63\n"
     ]
    },
    {
     "name": "stdout",
     "output_type": "stream",
     "text": [
      "Your ticket costs £2.0\n"
     ]
    }
   ],
   "source": [
    "age = int(input(\"Enter your age:\"))\n",
    "\n",
    "if age < 16:\n",
    "    cost = 3.00\n",
    "elif age >= 60:\n",
    "    cost = 2.00\n",
    "else:\n",
    "    cost = 6.00\n",
    "    \n",
    "print(f\"Your ticket costs £{cost}\")\n"
   ]
  },
  {
   "cell_type": "markdown",
   "id": "e0fd656d-8ae4-4e26-bfb2-e9d77070c4fb",
   "metadata": {},
   "source": [
    "## Exercise 3  \n",
    "Name your file: BodyMassIndex.py  \n",
    "Write a program to calculate your BMI and give weight status. Body Mass Index (BMI) is an internationally used measurement to check if you are a healthy weight for your height.The metric BMI formula accepts weight in kilograms and height in meters:  \n",
    "BMI= weight(kg)/height2(m2)  \n",
    "##### BMI Weight Status Categories table  "
   ]
  },
  {
   "cell_type": "raw",
   "id": "b4d89480-e6fb-496f-a594-217e027b9c6d",
   "metadata": {},
   "source": [
    "BMI range - kg/m2       Category  \n",
    " Below 18.5             Underweight  \n",
    " 18.5 -24.9             Normal  \n",
    " 25 - 29.9              Overweight  \n",
    " 30 & Above             Obese  "
   ]
  },
  {
   "cell_type": "markdown",
   "id": "f2a0fd13-ed98-4488-9177-3204a4fc152d",
   "metadata": {},
   "source": [
    "An example run of the program (numbers in bold are typed in by the user),  \n",
    "Enter your weight in (kg): 75  \n",
    "Enter your height in (m): 1.70  \n",
    "Your BMI is: 25.95  \n",
    "You are in the “overweight” range."
   ]
  },
  {
   "cell_type": "code",
   "execution_count": 128,
   "id": "1a0d4752-656e-49b0-a23f-60fdbb266e6c",
   "metadata": {},
   "outputs": [
    {
     "name": "stdin",
     "output_type": "stream",
     "text": [
      "Enter your weight in(kg): 65\n",
      "Enter your height in(m): 168\n"
     ]
    },
    {
     "name": "stdout",
     "output_type": "stream",
     "text": [
      "You are in the 'Underweight' range.\n"
     ]
    }
   ],
   "source": [
    "weight = float(input(\"Enter your weight in(kg):\"))\n",
    "height = float(input(\"Enter your height in(m):\"))\n",
    "\n",
    "BMI = weight / (height * height)\n",
    "\n",
    "if (BMI < 18.5):\n",
    "    category = \"Underweight\"\n",
    "elif (BMI >= 18.5) and (BMI <= 25):\n",
    "    category = \"Normal\"\n",
    "elif (BMI >= 25) and (BMI <= 30):\n",
    "    category = \"Overweight\"\n",
    "else:\n",
    "    category = \"Obese\"\n",
    "    \n",
    "print(f\"You are in the '{category}' range.\")\n"
   ]
  },
  {
   "cell_type": "markdown",
   "id": "cac1d180-8af7-4d73-89d1-8cc7b3617e56",
   "metadata": {},
   "source": [
    "## Exercise 4  \n",
    "Write a Python program to receve 3 numbers from the user and print the greatest among them."
   ]
  },
  {
   "cell_type": "code",
   "execution_count": 130,
   "id": "6967628c-ec62-48e7-8c49-0cbea01728c2",
   "metadata": {},
   "outputs": [
    {
     "name": "stdout",
     "output_type": "stream",
     "text": [
      "Enter 3 numbers:\n"
     ]
    },
    {
     "name": "stdin",
     "output_type": "stream",
     "text": [
      "number1: 652\n",
      "number2: 486\n",
      "number3: 125\n"
     ]
    },
    {
     "name": "stdout",
     "output_type": "stream",
     "text": [
      "The greatest number is 652\n"
     ]
    }
   ],
   "source": [
    "print(\"Enter 3 numbers:\")\n",
    "num1 = input('number1:')\n",
    "num2 = input('number2:')\n",
    "num3 = input('number3:')\n",
    "\n",
    "if (num1 > num2) and (num1 > num3):\n",
    "    max = num1\n",
    "elif (num2 > num3):\n",
    "    max = num2\n",
    "else:\n",
    "    max = num3\n",
    "    \n",
    "print(f\"The greatest number is {max}\")\n"
   ]
  },
  {
   "cell_type": "markdown",
   "id": "797f855e-0a85-4a43-b712-037a0e7745b5",
   "metadata": {},
   "source": [
    "## Exercise 5\n",
    "Find the factorial of a given number using loops(note the number is received from the user)"
   ]
  },
  {
   "cell_type": "code",
   "execution_count": 138,
   "id": "20c54553-1dde-45ab-88d4-c82fbbfa6b0d",
   "metadata": {},
   "outputs": [
    {
     "name": "stdin",
     "output_type": "stream",
     "text": [
      "Enter a number: 5\n"
     ]
    },
    {
     "name": "stdout",
     "output_type": "stream",
     "text": [
      "The factorial of 5 is 120\n"
     ]
    }
   ],
   "source": [
    "n = int(input(\"Enter a number:\"))\n",
    "fact = 1\n",
    "\n",
    "for i in range(1, n+1):\n",
    "    fact = fact * i\n",
    "    \n",
    "print(f\"The factorial of {n} is {fact}\")\n"
   ]
  },
  {
   "cell_type": "markdown",
   "id": "d41eca5c-1b7b-46c3-98df-b17683555b3c",
   "metadata": {},
   "source": [
    "## Exercise 6\n",
    "Reverse a number using while loop"
   ]
  },
  {
   "cell_type": "code",
   "execution_count": 136,
   "id": "d9d791da-c7f8-4e57-b33a-6144977b9ba7",
   "metadata": {},
   "outputs": [
    {
     "name": "stdin",
     "output_type": "stream",
     "text": [
      "Enter a number: 123456789\n"
     ]
    },
    {
     "name": "stdout",
     "output_type": "stream",
     "text": [
      "Reverse of 123456789 is 987654321\n"
     ]
    }
   ],
   "source": [
    "num = int(input(\"Enter a number:\"))\n",
    "n = num\n",
    "riverse = 0\n",
    "\n",
    "while n>0:\n",
    "    digit = n % 10\n",
    "    riverse = riverse * 10 + digit\n",
    "    n = n//10\n",
    "    \n",
    "print(f\"Reverse of {num} is {riverse}\")\n"
   ]
  },
  {
   "cell_type": "markdown",
   "id": "0d78576a-60ad-4c60-a5b2-d9d2cdd31173",
   "metadata": {},
   "source": [
    "## Exercise 7\n",
    "Finding the multiples of a number using loop\n"
   ]
  },
  {
   "cell_type": "code",
   "execution_count": 140,
   "id": "bc7c52dc-a314-4cd5-b46e-b05bdb9499ac",
   "metadata": {},
   "outputs": [
    {
     "name": "stdin",
     "output_type": "stream",
     "text": [
      "Enter a number: 100\n",
      "Enter a count: 20\n"
     ]
    },
    {
     "name": "stdout",
     "output_type": "stream",
     "text": [
      "Multiples of 100 is:\n",
      "100,  200,  300,  400,  500,  600,  700,  800,  900,  1000,  1100,  1200,  1300,  1400,  1500,  1600,  1700,  1800,  1900,  2000,  "
     ]
    }
   ],
   "source": [
    "num = int(input(\"Enter a number:\"))\n",
    "count = int(input(\"Enter a count:\"))\n",
    "print(f\"Multiples of {num} is:\")\n",
    "            \n",
    "for i in range(1, count+1):\n",
    "    print(i * num, end =',  ')\n",
    "    "
   ]
  },
  {
   "cell_type": "markdown",
   "id": "4b8b9f80-3654-4f77-ac9d-cacc4a91e5d9",
   "metadata": {},
   "source": [
    "## Exercise 8\n",
    "Write a program to print the inputted value as it is and break the loop if the value is 'done'.  \n",
    "Example run of the program:  \n",
    ":hello there  \n",
    "hello there  \n",
    ":finished  \n",
    "finished  \n",
    ":done  \n",
    "Done"
   ]
  },
  {
   "cell_type": "code",
   "execution_count": 142,
   "id": "1ac6cae0-9ac9-4970-bb2c-f938c595e083",
   "metadata": {},
   "outputs": [
    {
     "name": "stdin",
     "output_type": "stream",
     "text": [
      "input: hello there\n"
     ]
    },
    {
     "name": "stdout",
     "output_type": "stream",
     "text": [
      "hello there\n"
     ]
    },
    {
     "name": "stdin",
     "output_type": "stream",
     "text": [
      "input: finished\n"
     ]
    },
    {
     "name": "stdout",
     "output_type": "stream",
     "text": [
      "finished\n"
     ]
    },
    {
     "name": "stdin",
     "output_type": "stream",
     "text": [
      "input: done\n"
     ]
    },
    {
     "name": "stdout",
     "output_type": "stream",
     "text": [
      "Done\n"
     ]
    }
   ],
   "source": [
    "while True:\n",
    "    value = input(\"input:\")\n",
    "    if value.lower() == 'done':\n",
    "        print('Done')\n",
    "        break\n",
    "    print(value)\n",
    "    "
   ]
  },
  {
   "cell_type": "markdown",
   "id": "e9c1ab76-b4ec-4400-b81c-449dc44f52d3",
   "metadata": {},
   "source": [
    "## Exercise 9\n",
    "Write a program that prints the numbers from 1 to 10. But for multiples of three print \"Fizz\" instead of the number and for the multiple of five print \"Buzz\". For numbers which are multiples of both three and five print \"FizzBuzz\""
   ]
  },
  {
   "cell_type": "code",
   "execution_count": 79,
   "id": "d216a2c1-d6f2-4556-90b0-33b06e392dc0",
   "metadata": {},
   "outputs": [
    {
     "name": "stdout",
     "output_type": "stream",
     "text": [
      "1\n",
      "2\n",
      "Fizz\n",
      "4\n",
      "Buzz\n",
      "Fizz\n",
      "7\n",
      "8\n",
      "Fizz\n",
      "Buzz\n"
     ]
    }
   ],
   "source": [
    "for i in range(1,11):\n",
    "    if (i%3==0) and (i%5==0):\n",
    "        print(\"FizzBuzz\")\n",
    "    elif (i%3==0):\n",
    "        print(\"Fizz\")\n",
    "    elif (i%5==0):\n",
    "        print(\"Buzz\")\n",
    "    else:\n",
    "        print(i)"
   ]
  },
  {
   "cell_type": "markdown",
   "id": "cb957edb-2267-456c-9f5f-ad36e877927c",
   "metadata": {},
   "source": [
    "## Exercise 10\n",
    "Write a program to print the following pattern:  \n",
    "  \n",
    "5 4 3 2 1  \n",
    "4 3 2 1  \n",
    "3 2 1  \n",
    "2 1  \n",
    "1"
   ]
  },
  {
   "cell_type": "code",
   "execution_count": 144,
   "id": "a693f250-21d1-4725-9d2a-9b08dd90899c",
   "metadata": {},
   "outputs": [
    {
     "name": "stdout",
     "output_type": "stream",
     "text": [
      "5 4 3 2 1 \n",
      "\n",
      "4 3 2 1 \n",
      "\n",
      "3 2 1 \n",
      "\n",
      "2 1 \n",
      "\n",
      "1 \n",
      "\n"
     ]
    }
   ],
   "source": [
    "for i in range(5,0,-1):\n",
    "    for j in range(i,0,-1):\n",
    "        print(j, end=' ')\n",
    "    print('\\n')\n",
    " "
   ]
  },
  {
   "cell_type": "code",
   "execution_count": null,
   "id": "eb9ab3ed-e84f-46e0-9939-42a865659217",
   "metadata": {},
   "outputs": [],
   "source": []
  }
 ],
 "metadata": {
  "kernelspec": {
   "display_name": "Python [conda env:base] *",
   "language": "python",
   "name": "conda-base-py"
  },
  "language_info": {
   "codemirror_mode": {
    "name": "ipython",
    "version": 3
   },
   "file_extension": ".py",
   "mimetype": "text/x-python",
   "name": "python",
   "nbconvert_exporter": "python",
   "pygments_lexer": "ipython3",
   "version": "3.12.7"
  }
 },
 "nbformat": 4,
 "nbformat_minor": 5
}
