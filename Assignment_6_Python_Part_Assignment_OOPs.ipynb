{
 "cells": [
  {
   "cell_type": "markdown",
   "id": "91267636-f2c9-43e0-bbde-4d8ee79143df",
   "metadata": {},
   "source": [
    "### Question 1:\n",
    "Build a program to manage a university's course catalog. You want to define a base class Course that has the following properties: course_code: a string representing the course code (e.g., \"CS101\") course_name: a string representing the course name (e.g., \"Introduction to Computer Science\") credit_hours: an integer representing the credit hours for the course (e.g., 3) You also want to define two subclasses CoreCourse and ElectiveCourse, which inherit from the Course class. CoreCourse should have an additional property required_for_major which is a boolean representing whether the course is required for a particular major. ElectiveCourse should have an additional property elective_type which is a string representing the type of elective (e.g., \"general\", \"technical\", \"liberal arts\"). "
   ]
  },
  {
   "cell_type": "code",
   "execution_count": 42,
   "id": "f77c2147-57eb-4e47-a5a9-bc368c21e368",
   "metadata": {},
   "outputs": [],
   "source": [
    "class Course:\n",
    "    def __init__(self, course_code, course_name, credit_hours):\n",
    "        self.course_code = course_code\n",
    "        self.course_name = course_name\n",
    "        self.credit_hours = credit_hours\n",
    "\n",
    "    def show(self):\n",
    "        return f\"{self.course_code}: {self.course_name} ({self.credit_hours} credit hours)\"\n",
    "\n",
    "class CoreCourse(Course):\n",
    "    def __init__(self, course_code, course_name, credit_hours, required_for_major):\n",
    "        super().__init__(course_code, course_name, credit_hours)\n",
    "        self.required_for_major = required_for_major\n",
    "        \n",
    "    def show(self):\n",
    "        if self.required_for_major:\n",
    "            status ='Required'\n",
    "        else:\n",
    "            status ='Not required'\n",
    "        return super().show() + f\" - {status} for major\"\n",
    "\n",
    "class ElectiveCourse(Course):\n",
    "    def __init__(self, course_code, course_name, credit_hours, elective_type):\n",
    "        super().__init__(course_code, course_name, credit_hours)\n",
    "        self.elective_type = elective_type\n",
    "\n",
    "    def show(self):\n",
    "        return super().show() + f\" - Elective type : {self.elective_type}\""
   ]
  },
  {
   "cell_type": "code",
   "execution_count": 44,
   "id": "0f966f4b-9988-4010-aafc-9ca7c8bb4abc",
   "metadata": {},
   "outputs": [],
   "source": [
    "core_course = CoreCourse('CS101', 'Introduction to Computer Science', 3, True)\n",
    "elective = ElectiveCourse(\"HIST201\", \"World History\", 3, \"liberal arts\")"
   ]
  },
  {
   "cell_type": "code",
   "execution_count": 46,
   "id": "6880bdc0-ad96-45ab-821c-97a7730e5e92",
   "metadata": {},
   "outputs": [
    {
     "name": "stdout",
     "output_type": "stream",
     "text": [
      "CS101: Introduction to Computer Science (3 credit hours) - Required for major\n",
      "HIST201: World History (3 credit hours) - Elective type : liberal arts\n"
     ]
    }
   ],
   "source": [
    "print(core_course.show())\n",
    "print(elective.show())"
   ]
  },
  {
   "cell_type": "markdown",
   "id": "15774628-f06d-44e2-9445-e4c21fe967dc",
   "metadata": {},
   "source": [
    "### Question 2:\n",
    "Create a Python module named employee that contains a class Employee with attributes name, salary and methods get_name() and get_salary(). Write a program to use this module to create an object of the Employee class and display its name and salary."
   ]
  },
  {
   "cell_type": "code",
   "execution_count": null,
   "id": "558aad35-e1aa-4fc8-88c7-50620474b956",
   "metadata": {},
   "outputs": [],
   "source": [
    "# Module Employee\n",
    "class Employee:\n",
    "    def __init__(self, name, salary):\n",
    "        self.name = name\n",
    "        self.salary = salary\n",
    "\n",
    "    def get_name(self):\n",
    "        return f\"Name : {self.name}\"\n",
    "\n",
    "    def get_salary(self):\n",
    "        return f\"Salary : {self.salary}\""
   ]
  },
  {
   "cell_type": "code",
   "execution_count": 56,
   "id": "8784f1da-4982-48b0-ba47-c6de1514ea20",
   "metadata": {},
   "outputs": [],
   "source": [
    "from Employee import Employee"
   ]
  },
  {
   "cell_type": "code",
   "execution_count": 58,
   "id": "4f60c988-d50d-4deb-a976-b2dc60715c78",
   "metadata": {},
   "outputs": [],
   "source": [
    "emp1 = Employee('Arun', 25000)"
   ]
  },
  {
   "cell_type": "code",
   "execution_count": 64,
   "id": "17d7ab5a-6b37-46c4-a1e9-68eeaf789bd4",
   "metadata": {},
   "outputs": [
    {
     "name": "stdout",
     "output_type": "stream",
     "text": [
      "Name : Arun\n",
      "Salary : 25000\n"
     ]
    }
   ],
   "source": [
    "print(emp1.get_name())\n",
    "print(emp1.get_salary())"
   ]
  },
  {
   "cell_type": "code",
   "execution_count": null,
   "id": "ad356977-0bc1-48bc-9a38-cc822e859813",
   "metadata": {},
   "outputs": [],
   "source": []
  }
 ],
 "metadata": {
  "kernelspec": {
   "display_name": "Python [conda env:base] *",
   "language": "python",
   "name": "conda-base-py"
  },
  "language_info": {
   "codemirror_mode": {
    "name": "ipython",
    "version": 3
   },
   "file_extension": ".py",
   "mimetype": "text/x-python",
   "name": "python",
   "nbconvert_exporter": "python",
   "pygments_lexer": "ipython3",
   "version": "3.12.7"
  }
 },
 "nbformat": 4,
 "nbformat_minor": 5
}
