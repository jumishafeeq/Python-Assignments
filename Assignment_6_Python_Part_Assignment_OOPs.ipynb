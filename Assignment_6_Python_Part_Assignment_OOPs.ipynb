{
 "cells": [
  {
   "cell_type": "markdown",
   "id": "ed31238f-20de-4ee7-b988-e93c0cafa8b3",
   "metadata": {},
   "source": [
    "### Question 1:\n",
    "Build a program to manage a university's course catalog. You want to define a base class Course that has the following properties: course_code: a string representing the course code (e.g., \"CS101\") course_name: a string representing the course name (e.g., \"Introduction to Computer Science\") credit_hours: an integer representing the credit hours for the course (e.g., 3) You also want to define two subclasses CoreCourse and ElectiveCourse, which inherit from the Course class. CoreCourse should have an additional property required_for_major which is a boolean representing whether the course is required for a particular major. ElectiveCourse should have an additional property elective_type which is a string representing the type of elective (e.g., \"general\", \"technical\", \"liberal arts\"). "
   ]
  },
  {
   "cell_type": "code",
   "execution_count": 1,
   "id": "decb8b58-6907-458a-b87a-225db9e146bc",
   "metadata": {},
   "outputs": [],
   "source": [
    "class Course:\n",
    "    def __init__(self, course_code, course_name, credit_hours):\n",
    "        self.course_code = course_code\n",
    "        self.course_name = course_name\n",
    "        self.credit_hours = credit_hours\n",
    "    \n",
    "    def __str__(self):\n",
    "        return f\"{self.course_code}: {self.course_name} ({self.credit_hours} credit hours)\"\n",
    "\n",
    "class CoreCourse(Course):\n",
    "    def __init__(self, course_code, course_name, credit_hours, required_for_major):\n",
    "        super().__init__(course_code, course_name, credit_hours)\n",
    "        self.required_for_major = required_for_major\n",
    "    \n",
    "    def __str__(self):\n",
    "        status = \"Required\" if self.required_for_major else \"Not Required\"\n",
    "        return super().__str__() + f\" - {status} for Major\"\n",
    "\n",
    "class ElectiveCourse(Course):\n",
    "    def __init__(self, course_code, course_name, credit_hours, elective_type):\n",
    "        super().__init__(course_code, course_name, credit_hours)\n",
    "        self.elective_type = elective_type\n",
    "    \n",
    "    def __str__(self):\n",
    "        return super().__str__() + f\" - Elective Type: {self.elective_type}\"\n"
   ]
  },
  {
   "cell_type": "code",
   "execution_count": 3,
   "id": "a020a085-776f-4f62-86ef-7a3cd92f538c",
   "metadata": {},
   "outputs": [
    {
     "name": "stdout",
     "output_type": "stream",
     "text": [
      "CS101: Introduction to Computer Science (3 credit hours) - Required for Major\n",
      "HIST201: World History (3 credit hours) - Elective Type: liberal arts\n"
     ]
    }
   ],
   "source": [
    "if __name__ == \"__main__\":\n",
    "    core_course = CoreCourse(\"CS101\", \"Introduction to Computer Science\", 3, True)\n",
    "    elective_course = ElectiveCourse(\"HIST201\", \"World History\", 3, \"liberal arts\")\n",
    "    \n",
    "    print(core_course)\n",
    "    print(elective_course)\n"
   ]
  },
  {
   "cell_type": "markdown",
   "id": "731599e7-ff93-493f-a48c-f216d372b252",
   "metadata": {},
   "source": [
    "### Question 2:\n",
    "Create a Python module named employee that contains a class Employee with attributes name, salary and methods get_name() and get_salary(). Write a program to use this module to create an object of the Employee class and display its name and salary."
   ]
  },
  {
   "cell_type": "code",
   "execution_count": 5,
   "id": "4777c19a-418f-4c3f-a21e-78cb14c77e4a",
   "metadata": {},
   "outputs": [],
   "source": [
    "class Employee:\n",
    "    def __init__(self, name, salary):\n",
    "        self._name = name\n",
    "        self._salary = salary\n",
    "    \n",
    "    def get_name(self):\n",
    "        return self._name\n",
    "    \n",
    "    def get_salary(self):\n",
    "        return self._salary\n"
   ]
  },
  {
   "cell_type": "code",
   "execution_count": null,
   "id": "387c5f8b-3853-4942-aa43-e9ecc0259755",
   "metadata": {},
   "outputs": [],
   "source": []
  }
 ],
 "metadata": {
  "kernelspec": {
   "display_name": "Python [conda env:base] *",
   "language": "python",
   "name": "conda-base-py"
  },
  "language_info": {
   "codemirror_mode": {
    "name": "ipython",
    "version": 3
   },
   "file_extension": ".py",
   "mimetype": "text/x-python",
   "name": "python",
   "nbconvert_exporter": "python",
   "pygments_lexer": "ipython3",
   "version": "3.12.7"
  }
 },
 "nbformat": 4,
 "nbformat_minor": 5
}
