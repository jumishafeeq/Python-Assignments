{
 "cells": [
  {
   "cell_type": "markdown",
   "id": "3bff95ab-a143-4bd2-8385-6bc4fe2f4491",
   "metadata": {},
   "source": [
    "# Data structures in python "
   ]
  },
  {
   "cell_type": "markdown",
   "id": "bd46fd3d-cf66-4046-b1be-202342495066",
   "metadata": {},
   "source": [
    "## Topic : List  \n",
    "#### Exercise :"
   ]
  },
  {
   "cell_type": "markdown",
   "id": "e6bea9fe-d019-461f-8c4a-f8a0b3b624b2",
   "metadata": {},
   "source": [
    "* Q1. Create a list of 5 random numbers and print the list.  "
   ]
  },
  {
   "cell_type": "code",
   "execution_count": 56,
   "id": "b8ba7e35-2f53-4e72-a0df-846468605524",
   "metadata": {},
   "outputs": [
    {
     "name": "stdout",
     "output_type": "stream",
     "text": [
      "[6, 1, 8, 3, 0]\n"
     ]
    }
   ],
   "source": [
    "list = [6,1,8,3,0]\n",
    "print(list)"
   ]
  },
  {
   "cell_type": "markdown",
   "id": "d2d8d744-4ec3-48e3-985e-10169c08c8a8",
   "metadata": {},
   "source": [
    "* Q2. Insert 3 new values to the list and print the updated list.  "
   ]
  },
  {
   "cell_type": "code",
   "execution_count": 58,
   "id": "671a3313-8b99-40cc-a4a5-a7d426254582",
   "metadata": {},
   "outputs": [
    {
     "name": "stdout",
     "output_type": "stream",
     "text": [
      "[6, 1, 8, 3, 0, 10, 9, 4]\n"
     ]
    }
   ],
   "source": [
    "list.extend([10,9,4])\n",
    "print(list)"
   ]
  },
  {
   "cell_type": "markdown",
   "id": "a9562c54-edea-4436-ace2-26d5defcc760",
   "metadata": {},
   "source": [
    "* Q3. Try to use a for loop to print each element in the list.  "
   ]
  },
  {
   "cell_type": "code",
   "execution_count": 60,
   "id": "54f7c15c-03dd-42cd-8f77-62824714ced0",
   "metadata": {},
   "outputs": [
    {
     "name": "stdout",
     "output_type": "stream",
     "text": [
      "6\n",
      "1\n",
      "8\n",
      "3\n",
      "0\n",
      "10\n",
      "9\n",
      "4\n"
     ]
    }
   ],
   "source": [
    "for i in list:\n",
    "    print(i)"
   ]
  },
  {
   "cell_type": "markdown",
   "id": "d8d28296-7c03-4cea-9063-f88dbe32ce52",
   "metadata": {},
   "source": [
    "## Topic : Dictionary  \n",
    "#### Exercise : "
   ]
  },
  {
   "cell_type": "markdown",
   "id": "cf00491a-04d1-4452-95ba-797779ec9812",
   "metadata": {},
   "source": [
    "* Q1. Create a dictionary with keys 'name', 'age', and 'address' and values 'John', 25, and 'New York' respectively."
   ]
  },
  {
   "cell_type": "code",
   "execution_count": 66,
   "id": "59677cef-4b01-4e45-8088-4b137d474f76",
   "metadata": {},
   "outputs": [
    {
     "name": "stdout",
     "output_type": "stream",
     "text": [
      "{'Name': 'John', 'Age': 25, 'Address': 'New York'}\n"
     ]
    }
   ],
   "source": [
    "Student = {\"Name\":\"John\",\"Age\":25,\"Address\":\"New York\"}\n",
    "print(Student)"
   ]
  },
  {
   "cell_type": "markdown",
   "id": "486f37d4-792e-4934-b068-1be02d8d394d",
   "metadata": {},
   "source": [
    "* Q2. Add a new key-value pair to the dictionary created in Q1 with key 'phone' and value '1234567890'."
   ]
  },
  {
   "cell_type": "code",
   "execution_count": 68,
   "id": "6cb79655-8c0e-412d-b2a4-041942190745",
   "metadata": {},
   "outputs": [
    {
     "name": "stdout",
     "output_type": "stream",
     "text": [
      "{'Name': 'John', 'Age': 25, 'Address': 'New York', 'Phone': '1234567890'}\n"
     ]
    }
   ],
   "source": [
    "Student[\"Phone\"] = \"1234567890\"\n",
    "print(Student)"
   ]
  },
  {
   "cell_type": "markdown",
   "id": "fc4ab31b-5914-4602-9cf8-4b65bf30298f",
   "metadata": {},
   "source": [
    "## Topic : Set\n",
    "#### Exercise :"
   ]
  },
  {
   "cell_type": "markdown",
   "id": "1162f237-b165-4607-958a-3cab7ef7d187",
   "metadata": {},
   "source": [
    "* Q1.Create a set with values 1, 2, 3, 4, and 5."
   ]
  },
  {
   "cell_type": "code",
   "execution_count": 74,
   "id": "a8b0c38e-0610-418a-b1ee-5202ba4efb44",
   "metadata": {},
   "outputs": [
    {
     "name": "stdout",
     "output_type": "stream",
     "text": [
      "{1, 2, 3, 4, 5}\n"
     ]
    }
   ],
   "source": [
    "set = {1,2,3,4,5}\n",
    "print(set)"
   ]
  },
  {
   "cell_type": "markdown",
   "id": "fc0cb2cb-a035-4f6b-b24a-4162ff84c673",
   "metadata": {},
   "source": [
    "* Q2. Add the value 6 to the set created in Q1."
   ]
  },
  {
   "cell_type": "code",
   "execution_count": 78,
   "id": "2cb91ece-5ea8-41a7-ac89-04016e511f79",
   "metadata": {},
   "outputs": [
    {
     "name": "stdout",
     "output_type": "stream",
     "text": [
      "{1, 2, 3, 4, 5, 6}\n"
     ]
    }
   ],
   "source": [
    "set.add(6)\n",
    "print(set)"
   ]
  },
  {
   "cell_type": "markdown",
   "id": "c6b97fe8-3344-40f4-bf33-866404e6004b",
   "metadata": {},
   "source": [
    "* Q3. Remove the value 3 from the set created in Q1."
   ]
  },
  {
   "cell_type": "code",
   "execution_count": 84,
   "id": "64f2ed76-0a42-4d76-8786-680c9bc3f957",
   "metadata": {},
   "outputs": [
    {
     "name": "stdout",
     "output_type": "stream",
     "text": [
      "{1, 2, 4, 5, 6}\n"
     ]
    }
   ],
   "source": [
    "set-{3}\n",
    "print(set)"
   ]
  },
  {
   "cell_type": "markdown",
   "id": "7ec9695e-fb36-4281-9fa8-7f221b80f087",
   "metadata": {},
   "source": [
    "## Topic : Tuple\n",
    "#### Exercise :"
   ]
  },
  {
   "cell_type": "markdown",
   "id": "3d8775c6-e016-4100-843c-d8823dfb6517",
   "metadata": {},
   "source": [
    "* Q1. Create a tuple with values 1, 2, 3, and 4"
   ]
  },
  {
   "cell_type": "code",
   "execution_count": 70,
   "id": "d56a9d5b-d03b-4650-aa37-407dfe98db57",
   "metadata": {},
   "outputs": [
    {
     "name": "stdout",
     "output_type": "stream",
     "text": [
      "(1, 2, 3, 4)\n"
     ]
    }
   ],
   "source": [
    "tuple = (1,2,3,4)\n",
    "print(tuple)"
   ]
  },
  {
   "cell_type": "markdown",
   "id": "bab6239d-684b-4696-8aa9-9924056d9330",
   "metadata": {},
   "source": [
    "* Q2. Print the length of the tuple created in Q1."
   ]
  },
  {
   "cell_type": "code",
   "execution_count": 72,
   "id": "eba44116-73d5-4d39-bb50-9741b5a8be2e",
   "metadata": {},
   "outputs": [
    {
     "name": "stdout",
     "output_type": "stream",
     "text": [
      "4\n"
     ]
    }
   ],
   "source": [
    "print(len(tuple))"
   ]
  },
  {
   "cell_type": "code",
   "execution_count": null,
   "id": "e1e8957f-f4c4-4281-bc39-89c05ee71f87",
   "metadata": {},
   "outputs": [],
   "source": []
  }
 ],
 "metadata": {
  "kernelspec": {
   "display_name": "Python [conda env:base] *",
   "language": "python",
   "name": "conda-base-py"
  },
  "language_info": {
   "codemirror_mode": {
    "name": "ipython",
    "version": 3
   },
   "file_extension": ".py",
   "mimetype": "text/x-python",
   "name": "python",
   "nbconvert_exporter": "python",
   "pygments_lexer": "ipython3",
   "version": "3.12.7"
  }
 },
 "nbformat": 4,
 "nbformat_minor": 5
}
