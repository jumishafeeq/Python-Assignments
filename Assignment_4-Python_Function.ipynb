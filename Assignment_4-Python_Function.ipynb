{
 "cells": [
  {
   "cell_type": "markdown",
   "id": "16379c68-f988-4cc7-8256-45c0c4cbaf76",
   "metadata": {},
   "source": [
    "### Exercise 1: \n",
    "Create a function that takes in three arguments, two of which are optional. The first argument should be a required positional argument, the second argument should be a keyword argument with a default value of 10, and the third argument should be a keyword argument with a default value of None. The function should print the sum of the first two arguments if the third argument is None, and print the product of all three arguments if the third argument is not None."
   ]
  },
  {
   "cell_type": "code",
   "execution_count": 6,
   "id": "8e255fe3-03ef-4699-8003-73579ece3d20",
   "metadata": {},
   "outputs": [],
   "source": [
    "def function(a, b=10, c=None):\n",
    "    if (c == None):\n",
    "        print(a + b)\n",
    "    else:\n",
    "        print(a*b*c)"
   ]
  },
  {
   "cell_type": "code",
   "execution_count": 30,
   "id": "9c9a1a48-9a50-4f40-9717-5091d03cdb59",
   "metadata": {},
   "outputs": [
    {
     "name": "stdout",
     "output_type": "stream",
     "text": [
      "500\n"
     ]
    }
   ],
   "source": [
    "function(5,20,5)"
   ]
  },
  {
   "cell_type": "markdown",
   "id": "adfd3ee2-7b7b-459d-86fa-6a14c4dadc4d",
   "metadata": {},
   "source": [
    "### Exercise 2: \n",
    "Write a function that takes in a list of strings and returns a new list with only the strings that have a length greater than or equal to 5."
   ]
  },
  {
   "cell_type": "code",
   "execution_count": 72,
   "id": "57adcdfd-8db6-496f-8782-2a286f60d7dd",
   "metadata": {},
   "outputs": [],
   "source": [
    "def string_list(strgs):\n",
    "    list = []\n",
    "    for string in strgs:\n",
    "        if (len(string) >= 5):\n",
    "            list.append(string)\n",
    "    return list"
   ]
  },
  {
   "cell_type": "code",
   "execution_count": 76,
   "id": "3141ef75-6906-4cc6-9df6-5b01c0512c86",
   "metadata": {},
   "outputs": [
    {
     "name": "stdout",
     "output_type": "stream",
     "text": [
      "The filtered list is: ['happy', 'welcome']\n"
     ]
    }
   ],
   "source": [
    "new_list = string_list(['happy','go','welcome','done'])\n",
    "print('The filtered list is:',new_list)"
   ]
  },
  {
   "cell_type": "markdown",
   "id": "6ced959e-ea88-47e5-ad63-989b3bd3ce2b",
   "metadata": {},
   "source": [
    "### Exercise 3: \n",
    "Write a Python program to evaluate a given mathematical expression using the eval() function. expression = \"3 * 5 + 2\""
   ]
  },
  {
   "cell_type": "code",
   "execution_count": 68,
   "id": "fabca0e2-189d-42ee-ad95-0afa23a87610",
   "metadata": {},
   "outputs": [
    {
     "name": "stdout",
     "output_type": "stream",
     "text": [
      "3*5+2 = 17\n"
     ]
    }
   ],
   "source": [
    "exp = \"3*5+2\"\n",
    "result = eval(exp)\n",
    "print(f\"{exp} = {result}\")"
   ]
  },
  {
   "cell_type": "markdown",
   "id": "b728ae12-a8ad-4ce9-b219-8f77dd1233ce",
   "metadata": {},
   "source": [
    "### Exercise 4: \n",
    "Write a Python program to filter out the prime numbers from a given list of integers using the filter() function."
   ]
  },
  {
   "cell_type": "code",
   "execution_count": 84,
   "id": "ace4f682-1c3f-4f07-98ab-e02700d98692",
   "metadata": {},
   "outputs": [],
   "source": [
    "def is_prime(n):\n",
    "    if n<2:\n",
    "        return False\n",
    "    for i in range(2,n):\n",
    "        if (n % i == 0):\n",
    "            return False\n",
    "            break\n",
    "    return True"
   ]
  },
  {
   "cell_type": "code",
   "execution_count": 116,
   "id": "fc1ace07-d046-4c78-8097-0235ad6ec466",
   "metadata": {},
   "outputs": [
    {
     "name": "stdout",
     "output_type": "stream",
     "text": [
      "Prime numbers is: [23, 31, 19, 11]\n"
     ]
    }
   ],
   "source": [
    "numbers = [23,15,31,16,19,27,12,25,11]\n",
    "prime_numbers = list(filter(is_prime, numbers))\n",
    "print('Prime numbers is:',prime_numbers)"
   ]
  },
  {
   "cell_type": "markdown",
   "id": "6e241f20-0d45-4876-beb0-91e8655da085",
   "metadata": {},
   "source": [
    "### Exercise 5: \n",
    "Write a Python program to convert a list of strings to uppercase using the map() function."
   ]
  },
  {
   "cell_type": "code",
   "execution_count": 114,
   "id": "5aba9d80-cc99-41b7-8276-243accba8341",
   "metadata": {},
   "outputs": [
    {
     "name": "stdout",
     "output_type": "stream",
     "text": [
      "The uppercase of strings : ['ROSE', 'JONE', 'DIANA', 'DAVID']\n"
     ]
    }
   ],
   "source": [
    "words = ['rose','jone','diana','david']\n",
    "upper_words = list(map(str.upper,words))\n",
    "print('The uppercase of strings :',upper_words)"
   ]
  },
  {
   "cell_type": "code",
   "execution_count": null,
   "id": "e7d8e23a-9e3a-4d8e-822b-bf0b96ff55b4",
   "metadata": {},
   "outputs": [],
   "source": []
  }
 ],
 "metadata": {
  "kernelspec": {
   "display_name": "Python [conda env:base] *",
   "language": "python",
   "name": "conda-base-py"
  },
  "language_info": {
   "codemirror_mode": {
    "name": "ipython",
    "version": 3
   },
   "file_extension": ".py",
   "mimetype": "text/x-python",
   "name": "python",
   "nbconvert_exporter": "python",
   "pygments_lexer": "ipython3",
   "version": "3.12.7"
  }
 },
 "nbformat": 4,
 "nbformat_minor": 5
}
