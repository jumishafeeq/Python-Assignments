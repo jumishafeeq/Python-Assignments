{
 "cells": [
  {
   "cell_type": "raw",
   "id": "c75d4d48-b2a0-464a-a4e9-2cb53c390b77",
   "metadata": {},
   "source": [
    "Exercise 1:  \n",
    "Write Python code that prints your name, student number and email address.  \n",
    "An example runs of the program:  \n",
    "Bob \n",
    "ST1001 \n",
    "bob@gmail.com "
   ]
  },
  {
   "cell_type": "raw",
   "id": "a3b18755-7de1-4d6f-a69e-45c1adabfa1b",
   "metadata": {},
   "source": [
    "Exercise 2 \n",
    "Write Python code that prints your name, student number and email address using escape sequences.     \n",
    "An example runs of the program: \n",
    "Bob \n",
    "ST1001 \n",
    "bob@gmail.com "
   ]
  },
  {
   "cell_type": "raw",
   "id": "1b8c1219-a58f-4a03-b77d-61d6408d279f",
   "metadata": {},
   "source": [
    "Exercise 3 \n",
    "Write Python code that add, subtract, multiply and divide the two numbers. You can use the two numbers 14 and 7.  An example run of the program:  \n",
    "14 + 7 = 21 \n",
    "14 * 7 = 98 \n",
    "14 – 7 = 7 \n",
    "14 / 7 = 2 "
   ]
  },
  {
   "cell_type": "raw",
   "id": "b7fb902a-53e2-42d0-b373-aca420e566ed",
   "metadata": {},
   "source": [
    "Exercise 4\n",
    "Write Python code that displays the numbers from 1 to 5 as steps. \n",
    "An example runs of the program: \n",
    "1 \n",
    "2 \n",
    "3 \n",
    "4 \n",
    "5 "
   ]
  },
  {
   "cell_type": "raw",
   "id": "2fcb6a23-493d-41c9-9aa0-bb1183de369e",
   "metadata": {},
   "source": [
    "Exercise 5\n",
    "Write Python code that outputs the following sentence (including the quotation marks and line break) to the screen: \n",
    "An example runs of the program:  \n",
    "\"SDK\" stands for \"Software Development Kit\", whereas \n",
    "\"IDE\" stands for \"Integrated Development Environment\". \n"
   ]
  },
  {
   "cell_type": "raw",
   "id": "fa71a8b1-da19-4c56-b514-c357d5248ab5",
   "metadata": {},
   "source": [
    "Exercise 6\n",
    "Practice and check the output\n",
    "print(\"python is an \\\"awesome\\\" language.\")\n",
    "print(\"python\\n\\t2023\")\n",
    "print('I\\'m from Entri.\\b')\n",
    "print(\"\\65\")\n",
    "print(\"\\x65\")\n",
    "print(\"Entri\", \"2023\", sep=\"\\n\")\n",
    "print(\"Entri\", \"2023\", sep=\"\\b\")\n",
    "print(\"Entri\", \"2023\", sep=\"*\", end=\"\\b\\b\\b\\b\")\n"
   ]
  },
  {
   "cell_type": "raw",
   "id": "324ef31c-ae24-45ec-adfb-baf60473802a",
   "metadata": {},
   "source": [
    "Exercise 7\n",
    "Define the variables below. Print the types of each variable. What is the sum of your variables? (Hint: use a type conversion function.) What datatype is the sum?\n",
    "num=23\n",
    "textnum=\"57\"\n",
    "decimal=98.3\n"
   ]
  },
  {
   "cell_type": "raw",
   "id": "382fdf8d-50df-4972-b96f-37f611a683e4",
   "metadata": {},
   "source": [
    "Exercise 8\n",
    "calculate the number of minutes in a year using variables for each unit of time. print a statement that describes what your code does also. Create three variables to store no of days in a year, minute in a hour, hours in a day, then calculate the total minutes in a year and print the values\n",
    "(hint) total number of minutes in an year =No.of days in an year * Hours in a day * Minutes in an hour\n"
   ]
  },
  {
   "cell_type": "raw",
   "id": "3f4ecf7d-e415-4371-ac24-78c258a5d8d9",
   "metadata": {},
   "source": [
    "Exercise 9\n",
    "Write Python code that asks the user to enter his/her name and then output/prints his/her name with a greeting.\n",
    "An example runs of the program:\n",
    "Please enter you name: Tony\n",
    "Hi Tony, welcome to Python programming :)\n"
   ]
  },
  {
   "cell_type": "raw",
   "id": "9c1fb106-a8eb-4c1e-8ef8-d051df3a4a3d",
   "metadata": {},
   "source": [
    "Exercise 10\n",
    "Name your file: PoundsToDollars.py\n",
    "Write a program that asks the user to enter an amount in pounds (£) and the program calculates and converts an amount in dollar ($)\n",
    "An example runs of the program:\n",
    "Please enter amount in pounds: XXX\n",
    "£ XXX are $ XXX\n"
   ]
  }
 ],
 "metadata": {
  "kernelspec": {
   "display_name": "Python [conda env:base] *",
   "language": "python",
   "name": "conda-base-py"
  },
  "language_info": {
   "codemirror_mode": {
    "name": "ipython",
    "version": 3
   },
   "file_extension": ".py",
   "mimetype": "text/x-python",
   "name": "python",
   "nbconvert_exporter": "python",
   "pygments_lexer": "ipython3",
   "version": "3.12.7"
  }
 },
 "nbformat": 4,
 "nbformat_minor": 5
}
