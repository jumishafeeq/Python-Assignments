{
 "cells": [
  {
   "cell_type": "markdown",
   "id": "c49ebc1c-479b-4ff8-bfc5-b9c41d50179f",
   "metadata": {},
   "source": [
    "## Exercise 1  \n",
    "Write Python code that prints your name, student number and email address.   \n",
    "An example runs of the program:   \n",
    "Bob  \n",
    "ST1001  \n",
    "bob@gmail.com "
   ]
  },
  {
   "cell_type": "code",
   "execution_count": 17,
   "id": "7e8bd61e-7424-4c72-9c4e-4bb73b7d728e",
   "metadata": {},
   "outputs": [
    {
     "name": "stdout",
     "output_type": "stream",
     "text": [
      "Jumailath M\n",
      "ST35\n",
      "jumishafeeq14@gmail.com\n"
     ]
    }
   ],
   "source": [
    "print('Jumailath M')\n",
    "print('ST35')\n",
    "print('jumishafeeq14@gmail.com')"
   ]
  },
  {
   "cell_type": "markdown",
   "id": "3634a2ac-f0a4-4e26-8b39-417994b80f51",
   "metadata": {},
   "source": [
    "## Exercise 2 \n",
    "Write Python code that prints your name, student number and email address using escape sequences.      \n",
    "An example runs of the program:  \n",
    "Bob  \n",
    "ST1001  \n",
    "bob@gmail.com  \n"
   ]
  },
  {
   "cell_type": "code",
   "execution_count": 55,
   "id": "9d0cd3a2-1e50-4d76-a994-dcbafb40339e",
   "metadata": {},
   "outputs": [
    {
     "name": "stdout",
     "output_type": "stream",
     "text": [
      "Jumailath M \n",
      "ST35 \n",
      "jumishafeeq14@gmail.com\n"
     ]
    }
   ],
   "source": [
    "print('Jumailath M \\nST35 \\njumishafeeq14@gmail.com')"
   ]
  },
  {
   "cell_type": "markdown",
   "id": "254da10e-087b-4835-b040-396da18d1af5",
   "metadata": {},
   "source": [
    "## Exercise 3\n",
    "Write Python code that add, subtract, multiply and divide the two numbers. You can use the two numbers 14 and 7.  An example run of the program:   \n",
    "14 + 7 = 21  \n",
    "14 * 7 = 98  \n",
    "14 – 7 = 7  \n",
    "14 / 7 = 2  \n"
   ]
  },
  {
   "cell_type": "code",
   "execution_count": 51,
   "id": "4c52ced9-2da7-440b-893e-f9683316cb81",
   "metadata": {},
   "outputs": [
    {
     "name": "stdout",
     "output_type": "stream",
     "text": [
      "14 + 7 = 21\n",
      "14 * 7 = 98\n",
      "14 - 7 = 7\n",
      "14 / 7 = 2.0\n"
     ]
    }
   ],
   "source": [
    "x = 14\n",
    "y = 7\n",
    "\n",
    "print(f'{x} + {y} = {x+y}')\n",
    "print(f'{x} * {y} = {x*y}')\n",
    "print(f'{x} - {y} = {x-y}')\n",
    "print(f'{x} / {y} = {x/y}')"
   ]
  },
  {
   "cell_type": "markdown",
   "id": "6fba623c-40b0-4e81-a351-974dae50f58c",
   "metadata": {},
   "source": [
    "## Exercise 4\n",
    "Write Python code that displays the numbers from 1 to 5 as steps.   \n",
    "An example runs of the program:   \n",
    "1   \n",
    "2  \n",
    "3  \n",
    "4  \n",
    "5  "
   ]
  },
  {
   "cell_type": "code",
   "execution_count": 33,
   "id": "2e98f20d-7ef0-4606-837d-94b3b6d7deb3",
   "metadata": {},
   "outputs": [
    {
     "name": "stdout",
     "output_type": "stream",
     "text": [
      "1\n",
      "2\n",
      "3\n",
      "4\n",
      "5\n"
     ]
    }
   ],
   "source": [
    "for i in range(1,6):\n",
    "    print(i)\n"
   ]
  },
  {
   "cell_type": "markdown",
   "id": "e79e34c4-b7ac-471e-90fd-0e2a526b7bc0",
   "metadata": {},
   "source": [
    "## Exercise 5 \n",
    "Write Python code that outputs the following sentence (including the quotation marks and line break) to the screen:  \n",
    "An example runs of the program:    \n",
    "\"SDK\" stands for \"Software Development Kit\", whereas   \n",
    "\"IDE\" stands for \"Integrated Development Environment\". \n"
   ]
  },
  {
   "cell_type": "code",
   "execution_count": 37,
   "id": "cfeca58b-5981-4352-85d2-f8ff7253fefc",
   "metadata": {},
   "outputs": [
    {
     "name": "stdout",
     "output_type": "stream",
     "text": [
      "\"SDK\" stands for \"Software Development Kit\", whereas \n",
      "\"IDE\" stands for \"Integrated Development Environment\".\n"
     ]
    }
   ],
   "source": [
    "print('\"SDK\" stands for \"Software Development Kit\", whereas \\n\"IDE\" stands for \"Integrated Development Environment\".')"
   ]
  },
  {
   "cell_type": "markdown",
   "id": "ca2d22f3-0444-468c-aba6-beb03ccaaae5",
   "metadata": {},
   "source": [
    "## Exercise 6\n",
    "#### Practice and check the output  \n",
    "print(\"python is an \\\"awesome\\\" language.\")  \n",
    "print(\"python\\n\\t2023\")   \n",
    "print('I\\'m from Entri.\\b')  \n",
    "print(\"\\65\")  \n",
    "print(\"\\x65\")  \n",
    "print(\"Entri\", \"2023\", sep=\"\\n\")  \n",
    "print(\"Entri\", \"2023\", sep=\"\\b\")  \n",
    "print(\"Entri\", \"2023\", sep=\"*\", end=\"\\b\\b\\b\\b\")\n"
   ]
  },
  {
   "cell_type": "code",
   "execution_count": 49,
   "id": "885e3dce-84a9-428a-b23b-b32d631ff2ad",
   "metadata": {},
   "outputs": [
    {
     "name": "stdout",
     "output_type": "stream",
     "text": [
      "python is an \"awesome\" language.\n"
     ]
    }
   ],
   "source": [
    "print(\"python is an \\\"awesome\\\" language.\")"
   ]
  },
  {
   "cell_type": "code",
   "execution_count": 41,
   "id": "dee8256f-9e86-4e73-b529-68aa9db2ed67",
   "metadata": {},
   "outputs": [
    {
     "name": "stdout",
     "output_type": "stream",
     "text": [
      "python\n",
      "\t2023\n"
     ]
    }
   ],
   "source": [
    "print(\"python\\n\\t2023\")"
   ]
  },
  {
   "cell_type": "code",
   "execution_count": 43,
   "id": "8e4c78c8-e044-40f2-bb4d-f8bfa1271412",
   "metadata": {},
   "outputs": [
    {
     "name": "stdout",
     "output_type": "stream",
     "text": [
      "I'm from Entri\n"
     ]
    }
   ],
   "source": [
    "print('I\\'m from Entri.\\b')"
   ]
  },
  {
   "cell_type": "code",
   "execution_count": 69,
   "id": "386e07af-e923-4abd-8e14-2f26f0526b39",
   "metadata": {},
   "outputs": [
    {
     "name": "stdout",
     "output_type": "stream",
     "text": [
      "5\n"
     ]
    }
   ],
   "source": [
    "print(\"\\65\")"
   ]
  },
  {
   "cell_type": "code",
   "execution_count": 79,
   "id": "a28f8342-63ba-401f-8c4f-be5c9b729edf",
   "metadata": {},
   "outputs": [
    {
     "name": "stdout",
     "output_type": "stream",
     "text": [
      "e\n"
     ]
    }
   ],
   "source": [
    "print(\"\\x65\")"
   ]
  },
  {
   "cell_type": "code",
   "execution_count": 81,
   "id": "4ce2d2e1-e9e1-48bc-91b6-c1d2e3985b05",
   "metadata": {},
   "outputs": [
    {
     "name": "stdout",
     "output_type": "stream",
     "text": [
      "Entri\n",
      "2023\n"
     ]
    }
   ],
   "source": [
    "print(\"Entri\", \"2023\", sep=\"\\n\")"
   ]
  },
  {
   "cell_type": "code",
   "execution_count": 95,
   "id": "89c1d944-4664-4abc-a45a-06172dac627d",
   "metadata": {},
   "outputs": [
    {
     "name": "stdout",
     "output_type": "stream",
     "text": [
      "Entr2023\n"
     ]
    }
   ],
   "source": [
    "print(\"Entri\", \"2023\", sep=\"\\b\")"
   ]
  },
  {
   "cell_type": "code",
   "execution_count": 115,
   "id": "0e92e06e-8748-4fad-8146-2a0929a91aa7",
   "metadata": {},
   "outputs": [
    {
     "name": "stdout",
     "output_type": "stream",
     "text": [
      "Entri*20"
     ]
    }
   ],
   "source": [
    "print(\"Entri\", \"2023\", sep=\"*\", end=\"\\b\\b\\b\\b\")"
   ]
  },
  {
   "cell_type": "markdown",
   "id": "5e8e15b2-27c0-445a-b5a4-e67b6a9dbab6",
   "metadata": {},
   "source": [
    "## Exercise 7 \n",
    "Define the variables below. Print the types of each variable. What is the sum of your variables?  \n",
    "(Hint: use a type conversion function.) What datatype is the sum?  \n",
    "num=23  \n",
    "textnum=\"57\"  \n",
    "decimal=98.3  \n"
   ]
  },
  {
   "cell_type": "code",
   "execution_count": 53,
   "id": "091fc438-f25a-48ad-b539-a011272aa894",
   "metadata": {},
   "outputs": [
    {
     "name": "stdout",
     "output_type": "stream",
     "text": [
      "<class 'int'>\n",
      "<class 'str'>\n",
      "<class 'float'>\n"
     ]
    }
   ],
   "source": [
    "num = 23\n",
    "textnum = \"57\"\n",
    "decimal = 98.3\n",
    "\n",
    "print(type(num))\n",
    "print(type(textnum))\n",
    "print(type(decimal))"
   ]
  },
  {
   "cell_type": "code",
   "execution_count": 55,
   "id": "f00d67c5-e73d-48ef-9dfe-118023d5c79e",
   "metadata": {},
   "outputs": [
    {
     "name": "stdout",
     "output_type": "stream",
     "text": [
      "sum of the variables is 178.3\n",
      "The data type of the sum : <class 'float'>\n"
     ]
    }
   ],
   "source": [
    "sum = num + int(textnum) + decimal\n",
    "print('sum of the variables is', sum)\n",
    "print('The data type of the sum :',type(sum))"
   ]
  },
  {
   "cell_type": "markdown",
   "id": "548b8827-3dd9-4aab-aca5-aff28be6bad1",
   "metadata": {},
   "source": [
    "## Exercise 8\n",
    "calculate the number of minutes in a year using variables for each unit of time. print a statement that describes what your code does also. Create three variables to store no of days in a year, minute in a hour, hours in a day, then calculate the total minutes in a year and print the values.  \n",
    "(hint) total number of minutes in an year =No.of days in an year * Hours in a day * Minutes in an hour\n"
   ]
  },
  {
   "cell_type": "code",
   "execution_count": 143,
   "id": "b647ec8e-6434-47da-b352-38c79c7a31b6",
   "metadata": {},
   "outputs": [
    {
     "name": "stdout",
     "output_type": "stream",
     "text": [
      "The total number of minutes in year : 525600\n"
     ]
    }
   ],
   "source": [
    "# calculate the total number of minutes in a year\n",
    "\n",
    "# define variables\n",
    "days = 365  # Number of days in a year\n",
    "minutes = 60  # Number of minutes in an hour\n",
    "hours = 24  # Number of hours in a day\n",
    "\n",
    "# calculate total minutes in year\n",
    "TotalMinutes = days * minutes * hours\n",
    "\n",
    "# print the result\n",
    "print(\"The total number of minutes in year :\", TotalMinutes)"
   ]
  },
  {
   "cell_type": "markdown",
   "id": "2ba66361-81a2-4449-b597-d8a0fd6e0c2f",
   "metadata": {},
   "source": [
    "## Exercise 9\n",
    "Write Python code that asks the user to enter his/her name and then output/prints his/her name with a greeting.  \n",
    "An example runs of the program:  \n",
    "Please enter you name: Tony  \n",
    "Hi Tony, welcome to Python programming :)\n"
   ]
  },
  {
   "cell_type": "code",
   "execution_count": 161,
   "id": "8573d007-dbf4-4e89-b721-815b55921baa",
   "metadata": {},
   "outputs": [
    {
     "name": "stdin",
     "output_type": "stream",
     "text": [
      "Please enter your name: Tony\n"
     ]
    },
    {
     "name": "stdout",
     "output_type": "stream",
     "text": [
      "Hi Tony, welcome to Python programming.\n"
     ]
    }
   ],
   "source": [
    "name = input(\"Please enter your name:\")\n",
    "print(f\"Hi {name}, welcome to Python programming.\")"
   ]
  },
  {
   "cell_type": "markdown",
   "id": "e5ae24b5-d8a7-4d12-be14-c727ffd82cbb",
   "metadata": {},
   "source": [
    "## Exercise 10\n",
    "Name your file: PoundsToDollars.py  \n",
    "Write a program that asks the user to enter an amount in pounds (£) and the program calculates and converts an amount in dollar ($).\n",
    "\n",
    "An example runs of the program:  \n",
    "Please enter amount in pounds: XXX  \n",
    "£ XXX are $ XXX"
   ]
  },
  {
   "cell_type": "code",
   "execution_count": 185,
   "id": "4816e975-692a-4c24-bf46-cf1e1aa2540b",
   "metadata": {},
   "outputs": [
    {
     "name": "stdin",
     "output_type": "stream",
     "text": [
      "Please enter amount in pounds: 23\n"
     ]
    },
    {
     "name": "stdout",
     "output_type": "stream",
     "text": [
      "£23.0 is equel to $31.05\n"
     ]
    }
   ],
   "source": [
    "# PoundToDollars.py\n",
    "pounds = float(input(\"Please enter amount in pounds:\"))\n",
    "dollars = 1.35 * pounds\n",
    "print(f\"£{pounds} is equel to ${dollars:}\")"
   ]
  },
  {
   "cell_type": "markdown",
   "id": "fb35e899-34dd-4aa3-84ee-6b0513821b56",
   "metadata": {},
   "source": [
    "\n"
   ]
  },
  {
   "cell_type": "code",
   "execution_count": null,
   "id": "f01a024c-44ad-401f-a038-3682b703d875",
   "metadata": {},
   "outputs": [],
   "source": []
  }
 ],
 "metadata": {
  "kernelspec": {
   "display_name": "Python [conda env:base] *",
   "language": "python",
   "name": "conda-base-py"
  },
  "language_info": {
   "codemirror_mode": {
    "name": "ipython",
    "version": 3
   },
   "file_extension": ".py",
   "mimetype": "text/x-python",
   "name": "python",
   "nbconvert_exporter": "python",
   "pygments_lexer": "ipython3",
   "version": "3.12.7"
  }
 },
 "nbformat": 4,
 "nbformat_minor": 5
}
